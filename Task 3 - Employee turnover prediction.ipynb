{
 "cells": [
  {
   "cell_type": "markdown",
   "metadata": {
    "id": "UEqtPGWIa15y"
   },
   "source": [
    "\n",
    "<p style=\"text-align:center;background-color: grey \"> \n",
    "    <span style=\"font-size:40px; color:black; font-family:'Times New Roman', serif; font-weight:bold;\">\n",
    "        Task 3 - Employee turnover prediction\n",
    "        <br>\n",
    "        TechnoHacks Internship<br><br>\n",
    "    </span> \n",
    "    <span style=\"font-size:30px; color:black; font-family:'Times New Roman', serif; font-weight:bold;\">\n",
    "        Author - Anuj Nanda Gorkhali\n",
    "    </span>\n",
    "</p>"
   ]
  },
  {
   "cell_type": "markdown",
   "metadata": {
    "id": "_9DJryYTa2H6"
   },
   "source": [
    "# **Importing Libraries**"
   ]
  },
  {
   "cell_type": "code",
   "execution_count": 1,
   "metadata": {
    "id": "6sq7oHESbZvH"
   },
   "outputs": [],
   "source": [
    "import numpy as np\n",
    "import pandas as pd\n",
    "import matplotlib.pyplot as plt\n",
    "import seaborn as sns\n",
    "from sklearn.model_selection import train_test_split\n",
    "import warnings\n",
    "import xgboost as xgb"
   ]
  },
  {
   "cell_type": "code",
   "execution_count": 2,
   "metadata": {
    "id": "qoRq7KQHbruy"
   },
   "outputs": [],
   "source": [
    "import warnings\n",
    "warnings.filterwarnings('ignore')\n"
   ]
  },
  {
   "cell_type": "markdown",
   "metadata": {
    "id": "Q3C8CyP2a2b0"
   },
   "source": [
    "# **Importing Dataset**"
   ]
  },
  {
   "cell_type": "code",
   "execution_count": 3,
   "metadata": {
    "id": "85_sPM-lbx9T"
   },
   "outputs": [],
   "source": [
    "df=pd.read_csv('task3data.csv')"
   ]
  },
  {
   "cell_type": "code",
   "execution_count": 4,
   "metadata": {
    "colab": {
     "base_uri": "https://localhost:8080/",
     "height": 369
    },
    "id": "Xqdw7L6DcKm3",
    "outputId": "92919d7d-dadd-4b48-e5da-62cf8ddab873"
   },
   "outputs": [
    {
     "data": {
      "text/html": [
       "<div>\n",
       "<style scoped>\n",
       "    .dataframe tbody tr th:only-of-type {\n",
       "        vertical-align: middle;\n",
       "    }\n",
       "\n",
       "    .dataframe tbody tr th {\n",
       "        vertical-align: top;\n",
       "    }\n",
       "\n",
       "    .dataframe thead th {\n",
       "        text-align: right;\n",
       "    }\n",
       "</style>\n",
       "<table border=\"1\" class=\"dataframe\">\n",
       "  <thead>\n",
       "    <tr style=\"text-align: right;\">\n",
       "      <th></th>\n",
       "      <th>Age</th>\n",
       "      <th>Attrition</th>\n",
       "      <th>BusinessTravel</th>\n",
       "      <th>DailyRate</th>\n",
       "      <th>Department</th>\n",
       "      <th>DistanceFromHome</th>\n",
       "      <th>Education</th>\n",
       "      <th>EducationField</th>\n",
       "      <th>EmployeeCount</th>\n",
       "      <th>EmployeeNumber</th>\n",
       "      <th>...</th>\n",
       "      <th>RelationshipSatisfaction</th>\n",
       "      <th>StandardHours</th>\n",
       "      <th>StockOptionLevel</th>\n",
       "      <th>TotalWorkingYears</th>\n",
       "      <th>TrainingTimesLastYear</th>\n",
       "      <th>WorkLifeBalance</th>\n",
       "      <th>YearsAtCompany</th>\n",
       "      <th>YearsInCurrentRole</th>\n",
       "      <th>YearsSinceLastPromotion</th>\n",
       "      <th>YearsWithCurrManager</th>\n",
       "    </tr>\n",
       "  </thead>\n",
       "  <tbody>\n",
       "    <tr>\n",
       "      <th>0</th>\n",
       "      <td>41</td>\n",
       "      <td>Yes</td>\n",
       "      <td>Travel_Rarely</td>\n",
       "      <td>1102</td>\n",
       "      <td>Sales</td>\n",
       "      <td>1</td>\n",
       "      <td>2</td>\n",
       "      <td>Life Sciences</td>\n",
       "      <td>1</td>\n",
       "      <td>1</td>\n",
       "      <td>...</td>\n",
       "      <td>1</td>\n",
       "      <td>80</td>\n",
       "      <td>0</td>\n",
       "      <td>8</td>\n",
       "      <td>0</td>\n",
       "      <td>1</td>\n",
       "      <td>6</td>\n",
       "      <td>4</td>\n",
       "      <td>0</td>\n",
       "      <td>5</td>\n",
       "    </tr>\n",
       "    <tr>\n",
       "      <th>1</th>\n",
       "      <td>49</td>\n",
       "      <td>No</td>\n",
       "      <td>Travel_Frequently</td>\n",
       "      <td>279</td>\n",
       "      <td>Research &amp; Development</td>\n",
       "      <td>8</td>\n",
       "      <td>1</td>\n",
       "      <td>Life Sciences</td>\n",
       "      <td>1</td>\n",
       "      <td>2</td>\n",
       "      <td>...</td>\n",
       "      <td>4</td>\n",
       "      <td>80</td>\n",
       "      <td>1</td>\n",
       "      <td>10</td>\n",
       "      <td>3</td>\n",
       "      <td>3</td>\n",
       "      <td>10</td>\n",
       "      <td>7</td>\n",
       "      <td>1</td>\n",
       "      <td>7</td>\n",
       "    </tr>\n",
       "    <tr>\n",
       "      <th>2</th>\n",
       "      <td>37</td>\n",
       "      <td>Yes</td>\n",
       "      <td>Travel_Rarely</td>\n",
       "      <td>1373</td>\n",
       "      <td>Research &amp; Development</td>\n",
       "      <td>2</td>\n",
       "      <td>2</td>\n",
       "      <td>Other</td>\n",
       "      <td>1</td>\n",
       "      <td>4</td>\n",
       "      <td>...</td>\n",
       "      <td>2</td>\n",
       "      <td>80</td>\n",
       "      <td>0</td>\n",
       "      <td>7</td>\n",
       "      <td>3</td>\n",
       "      <td>3</td>\n",
       "      <td>0</td>\n",
       "      <td>0</td>\n",
       "      <td>0</td>\n",
       "      <td>0</td>\n",
       "    </tr>\n",
       "    <tr>\n",
       "      <th>3</th>\n",
       "      <td>33</td>\n",
       "      <td>No</td>\n",
       "      <td>Travel_Frequently</td>\n",
       "      <td>1392</td>\n",
       "      <td>Research &amp; Development</td>\n",
       "      <td>3</td>\n",
       "      <td>4</td>\n",
       "      <td>Life Sciences</td>\n",
       "      <td>1</td>\n",
       "      <td>5</td>\n",
       "      <td>...</td>\n",
       "      <td>3</td>\n",
       "      <td>80</td>\n",
       "      <td>0</td>\n",
       "      <td>8</td>\n",
       "      <td>3</td>\n",
       "      <td>3</td>\n",
       "      <td>8</td>\n",
       "      <td>7</td>\n",
       "      <td>3</td>\n",
       "      <td>0</td>\n",
       "    </tr>\n",
       "    <tr>\n",
       "      <th>4</th>\n",
       "      <td>27</td>\n",
       "      <td>No</td>\n",
       "      <td>Travel_Rarely</td>\n",
       "      <td>591</td>\n",
       "      <td>Research &amp; Development</td>\n",
       "      <td>2</td>\n",
       "      <td>1</td>\n",
       "      <td>Medical</td>\n",
       "      <td>1</td>\n",
       "      <td>7</td>\n",
       "      <td>...</td>\n",
       "      <td>4</td>\n",
       "      <td>80</td>\n",
       "      <td>1</td>\n",
       "      <td>6</td>\n",
       "      <td>3</td>\n",
       "      <td>3</td>\n",
       "      <td>2</td>\n",
       "      <td>2</td>\n",
       "      <td>2</td>\n",
       "      <td>2</td>\n",
       "    </tr>\n",
       "  </tbody>\n",
       "</table>\n",
       "<p>5 rows × 35 columns</p>\n",
       "</div>"
      ],
      "text/plain": [
       "   Age Attrition     BusinessTravel  DailyRate              Department  \\\n",
       "0   41       Yes      Travel_Rarely       1102                   Sales   \n",
       "1   49        No  Travel_Frequently        279  Research & Development   \n",
       "2   37       Yes      Travel_Rarely       1373  Research & Development   \n",
       "3   33        No  Travel_Frequently       1392  Research & Development   \n",
       "4   27        No      Travel_Rarely        591  Research & Development   \n",
       "\n",
       "   DistanceFromHome  Education EducationField  EmployeeCount  EmployeeNumber  \\\n",
       "0                 1          2  Life Sciences              1               1   \n",
       "1                 8          1  Life Sciences              1               2   \n",
       "2                 2          2          Other              1               4   \n",
       "3                 3          4  Life Sciences              1               5   \n",
       "4                 2          1        Medical              1               7   \n",
       "\n",
       "   ...  RelationshipSatisfaction StandardHours  StockOptionLevel  \\\n",
       "0  ...                         1            80                 0   \n",
       "1  ...                         4            80                 1   \n",
       "2  ...                         2            80                 0   \n",
       "3  ...                         3            80                 0   \n",
       "4  ...                         4            80                 1   \n",
       "\n",
       "   TotalWorkingYears  TrainingTimesLastYear WorkLifeBalance  YearsAtCompany  \\\n",
       "0                  8                      0               1               6   \n",
       "1                 10                      3               3              10   \n",
       "2                  7                      3               3               0   \n",
       "3                  8                      3               3               8   \n",
       "4                  6                      3               3               2   \n",
       "\n",
       "  YearsInCurrentRole  YearsSinceLastPromotion  YearsWithCurrManager  \n",
       "0                  4                        0                     5  \n",
       "1                  7                        1                     7  \n",
       "2                  0                        0                     0  \n",
       "3                  7                        3                     0  \n",
       "4                  2                        2                     2  \n",
       "\n",
       "[5 rows x 35 columns]"
      ]
     },
     "execution_count": 4,
     "metadata": {},
     "output_type": "execute_result"
    }
   ],
   "source": [
    "df.head()"
   ]
  },
  {
   "cell_type": "code",
   "execution_count": 5,
   "metadata": {
    "colab": {
     "base_uri": "https://localhost:8080/"
    },
    "id": "LRoSoHGvckhy",
    "outputId": "a7be0d78-0310-48ae-8ad6-5a248b326340"
   },
   "outputs": [
    {
     "data": {
      "text/plain": [
       "Index(['Age', 'Attrition', 'BusinessTravel', 'DailyRate', 'Department',\n",
       "       'DistanceFromHome', 'Education', 'EducationField', 'EmployeeCount',\n",
       "       'EmployeeNumber', 'EnvironmentSatisfaction', 'Gender', 'HourlyRate',\n",
       "       'JobInvolvement', 'JobLevel', 'JobRole', 'JobSatisfaction',\n",
       "       'MaritalStatus', 'MonthlyIncome', 'MonthlyRate', 'NumCompaniesWorked',\n",
       "       'Over18', 'OverTime', 'PercentSalaryHike', 'PerformanceRating',\n",
       "       'RelationshipSatisfaction', 'StandardHours', 'StockOptionLevel',\n",
       "       'TotalWorkingYears', 'TrainingTimesLastYear', 'WorkLifeBalance',\n",
       "       'YearsAtCompany', 'YearsInCurrentRole', 'YearsSinceLastPromotion',\n",
       "       'YearsWithCurrManager'],\n",
       "      dtype='object')"
      ]
     },
     "execution_count": 5,
     "metadata": {},
     "output_type": "execute_result"
    }
   ],
   "source": [
    "df.columns"
   ]
  },
  {
   "cell_type": "code",
   "execution_count": 6,
   "metadata": {
    "colab": {
     "base_uri": "https://localhost:8080/"
    },
    "id": "f_1E_knRcrOZ",
    "outputId": "ff2f69d4-9741-4464-e424-a3b79cb8b09e"
   },
   "outputs": [
    {
     "data": {
      "text/plain": [
       "(1470, 35)"
      ]
     },
     "execution_count": 6,
     "metadata": {},
     "output_type": "execute_result"
    }
   ],
   "source": [
    "df.shape"
   ]
  },
  {
   "cell_type": "markdown",
   "metadata": {
    "id": "ws4yRhy3r__h"
   },
   "source": [
    "# **Performing EDA**"
   ]
  },
  {
   "cell_type": "code",
   "execution_count": 7,
   "metadata": {
    "colab": {
     "base_uri": "https://localhost:8080/"
    },
    "id": "hcmN_tHPsUZA",
    "outputId": "e67ff5a3-0822-43ff-b207-ed4ae68471b8"
   },
   "outputs": [
    {
     "name": "stdout",
     "output_type": "stream",
     "text": [
      "<class 'pandas.core.frame.DataFrame'>\n",
      "RangeIndex: 1470 entries, 0 to 1469\n",
      "Data columns (total 35 columns):\n",
      " #   Column                    Non-Null Count  Dtype \n",
      "---  ------                    --------------  ----- \n",
      " 0   Age                       1470 non-null   int64 \n",
      " 1   Attrition                 1470 non-null   object\n",
      " 2   BusinessTravel            1470 non-null   object\n",
      " 3   DailyRate                 1470 non-null   int64 \n",
      " 4   Department                1470 non-null   object\n",
      " 5   DistanceFromHome          1470 non-null   int64 \n",
      " 6   Education                 1470 non-null   int64 \n",
      " 7   EducationField            1470 non-null   object\n",
      " 8   EmployeeCount             1470 non-null   int64 \n",
      " 9   EmployeeNumber            1470 non-null   int64 \n",
      " 10  EnvironmentSatisfaction   1470 non-null   int64 \n",
      " 11  Gender                    1470 non-null   object\n",
      " 12  HourlyRate                1470 non-null   int64 \n",
      " 13  JobInvolvement            1470 non-null   int64 \n",
      " 14  JobLevel                  1470 non-null   int64 \n",
      " 15  JobRole                   1470 non-null   object\n",
      " 16  JobSatisfaction           1470 non-null   int64 \n",
      " 17  MaritalStatus             1470 non-null   object\n",
      " 18  MonthlyIncome             1470 non-null   int64 \n",
      " 19  MonthlyRate               1470 non-null   int64 \n",
      " 20  NumCompaniesWorked        1470 non-null   int64 \n",
      " 21  Over18                    1470 non-null   object\n",
      " 22  OverTime                  1470 non-null   object\n",
      " 23  PercentSalaryHike         1470 non-null   int64 \n",
      " 24  PerformanceRating         1470 non-null   int64 \n",
      " 25  RelationshipSatisfaction  1470 non-null   int64 \n",
      " 26  StandardHours             1470 non-null   int64 \n",
      " 27  StockOptionLevel          1470 non-null   int64 \n",
      " 28  TotalWorkingYears         1470 non-null   int64 \n",
      " 29  TrainingTimesLastYear     1470 non-null   int64 \n",
      " 30  WorkLifeBalance           1470 non-null   int64 \n",
      " 31  YearsAtCompany            1470 non-null   int64 \n",
      " 32  YearsInCurrentRole        1470 non-null   int64 \n",
      " 33  YearsSinceLastPromotion   1470 non-null   int64 \n",
      " 34  YearsWithCurrManager      1470 non-null   int64 \n",
      "dtypes: int64(26), object(9)\n",
      "memory usage: 402.1+ KB\n"
     ]
    }
   ],
   "source": [
    "df.info()"
   ]
  },
  {
   "cell_type": "code",
   "execution_count": 8,
   "metadata": {
    "colab": {
     "base_uri": "https://localhost:8080/"
    },
    "id": "P0lSzTy7cvL3",
    "outputId": "8866870e-1a14-4a77-9faf-652d014a174c"
   },
   "outputs": [
    {
     "data": {
      "text/plain": [
       "Age                         0\n",
       "Attrition                   0\n",
       "BusinessTravel              0\n",
       "DailyRate                   0\n",
       "Department                  0\n",
       "DistanceFromHome            0\n",
       "Education                   0\n",
       "EducationField              0\n",
       "EmployeeCount               0\n",
       "EmployeeNumber              0\n",
       "EnvironmentSatisfaction     0\n",
       "Gender                      0\n",
       "HourlyRate                  0\n",
       "JobInvolvement              0\n",
       "JobLevel                    0\n",
       "JobRole                     0\n",
       "JobSatisfaction             0\n",
       "MaritalStatus               0\n",
       "MonthlyIncome               0\n",
       "MonthlyRate                 0\n",
       "NumCompaniesWorked          0\n",
       "Over18                      0\n",
       "OverTime                    0\n",
       "PercentSalaryHike           0\n",
       "PerformanceRating           0\n",
       "RelationshipSatisfaction    0\n",
       "StandardHours               0\n",
       "StockOptionLevel            0\n",
       "TotalWorkingYears           0\n",
       "TrainingTimesLastYear       0\n",
       "WorkLifeBalance             0\n",
       "YearsAtCompany              0\n",
       "YearsInCurrentRole          0\n",
       "YearsSinceLastPromotion     0\n",
       "YearsWithCurrManager        0\n",
       "dtype: int64"
      ]
     },
     "execution_count": 8,
     "metadata": {},
     "output_type": "execute_result"
    }
   ],
   "source": [
    "df.isnull().sum()"
   ]
  },
  {
   "cell_type": "markdown",
   "metadata": {
    "id": "v9nVaa4vsLa0"
   },
   "source": [
    "**As we can see above there is no null values in our dataset.**"
   ]
  },
  {
   "cell_type": "markdown",
   "metadata": {
    "id": "Eys3rxiTsorY"
   },
   "source": [
    "**Now let's convert our output variable from categorical to numerical.**"
   ]
  },
  {
   "cell_type": "code",
   "execution_count": 9,
   "metadata": {
    "id": "QCucQ_V3sjuo"
   },
   "outputs": [],
   "source": [
    "y_dict = {\"Yes\":1,\"No\":0}\n",
    "df[\"Attrition_numeric\"] = df[\"Attrition\"].map(y_dict)"
   ]
  },
  {
   "cell_type": "code",
   "execution_count": 10,
   "metadata": {
    "colab": {
     "base_uri": "https://localhost:8080/",
     "height": 896
    },
    "id": "UamqJOs0sJyT",
    "outputId": "4a425296-8427-488b-afe9-bba446c9dc93"
   },
   "outputs": [
    {
     "data": {
      "text/html": [
       "<div>\n",
       "<style scoped>\n",
       "    .dataframe tbody tr th:only-of-type {\n",
       "        vertical-align: middle;\n",
       "    }\n",
       "\n",
       "    .dataframe tbody tr th {\n",
       "        vertical-align: top;\n",
       "    }\n",
       "\n",
       "    .dataframe thead th {\n",
       "        text-align: right;\n",
       "    }\n",
       "</style>\n",
       "<table border=\"1\" class=\"dataframe\">\n",
       "  <thead>\n",
       "    <tr style=\"text-align: right;\">\n",
       "      <th></th>\n",
       "      <th>count</th>\n",
       "      <th>mean</th>\n",
       "      <th>std</th>\n",
       "      <th>min</th>\n",
       "      <th>25%</th>\n",
       "      <th>50%</th>\n",
       "      <th>75%</th>\n",
       "      <th>max</th>\n",
       "    </tr>\n",
       "  </thead>\n",
       "  <tbody>\n",
       "    <tr>\n",
       "      <th>Age</th>\n",
       "      <td>1470.0</td>\n",
       "      <td>36.923810</td>\n",
       "      <td>9.135373</td>\n",
       "      <td>18.0</td>\n",
       "      <td>30.00</td>\n",
       "      <td>36.0</td>\n",
       "      <td>43.00</td>\n",
       "      <td>60.0</td>\n",
       "    </tr>\n",
       "    <tr>\n",
       "      <th>DailyRate</th>\n",
       "      <td>1470.0</td>\n",
       "      <td>802.485714</td>\n",
       "      <td>403.509100</td>\n",
       "      <td>102.0</td>\n",
       "      <td>465.00</td>\n",
       "      <td>802.0</td>\n",
       "      <td>1157.00</td>\n",
       "      <td>1499.0</td>\n",
       "    </tr>\n",
       "    <tr>\n",
       "      <th>DistanceFromHome</th>\n",
       "      <td>1470.0</td>\n",
       "      <td>9.192517</td>\n",
       "      <td>8.106864</td>\n",
       "      <td>1.0</td>\n",
       "      <td>2.00</td>\n",
       "      <td>7.0</td>\n",
       "      <td>14.00</td>\n",
       "      <td>29.0</td>\n",
       "    </tr>\n",
       "    <tr>\n",
       "      <th>Education</th>\n",
       "      <td>1470.0</td>\n",
       "      <td>2.912925</td>\n",
       "      <td>1.024165</td>\n",
       "      <td>1.0</td>\n",
       "      <td>2.00</td>\n",
       "      <td>3.0</td>\n",
       "      <td>4.00</td>\n",
       "      <td>5.0</td>\n",
       "    </tr>\n",
       "    <tr>\n",
       "      <th>EmployeeCount</th>\n",
       "      <td>1470.0</td>\n",
       "      <td>1.000000</td>\n",
       "      <td>0.000000</td>\n",
       "      <td>1.0</td>\n",
       "      <td>1.00</td>\n",
       "      <td>1.0</td>\n",
       "      <td>1.00</td>\n",
       "      <td>1.0</td>\n",
       "    </tr>\n",
       "    <tr>\n",
       "      <th>EmployeeNumber</th>\n",
       "      <td>1470.0</td>\n",
       "      <td>1024.865306</td>\n",
       "      <td>602.024335</td>\n",
       "      <td>1.0</td>\n",
       "      <td>491.25</td>\n",
       "      <td>1020.5</td>\n",
       "      <td>1555.75</td>\n",
       "      <td>2068.0</td>\n",
       "    </tr>\n",
       "    <tr>\n",
       "      <th>EnvironmentSatisfaction</th>\n",
       "      <td>1470.0</td>\n",
       "      <td>2.721769</td>\n",
       "      <td>1.093082</td>\n",
       "      <td>1.0</td>\n",
       "      <td>2.00</td>\n",
       "      <td>3.0</td>\n",
       "      <td>4.00</td>\n",
       "      <td>4.0</td>\n",
       "    </tr>\n",
       "    <tr>\n",
       "      <th>HourlyRate</th>\n",
       "      <td>1470.0</td>\n",
       "      <td>65.891156</td>\n",
       "      <td>20.329428</td>\n",
       "      <td>30.0</td>\n",
       "      <td>48.00</td>\n",
       "      <td>66.0</td>\n",
       "      <td>83.75</td>\n",
       "      <td>100.0</td>\n",
       "    </tr>\n",
       "    <tr>\n",
       "      <th>JobInvolvement</th>\n",
       "      <td>1470.0</td>\n",
       "      <td>2.729932</td>\n",
       "      <td>0.711561</td>\n",
       "      <td>1.0</td>\n",
       "      <td>2.00</td>\n",
       "      <td>3.0</td>\n",
       "      <td>3.00</td>\n",
       "      <td>4.0</td>\n",
       "    </tr>\n",
       "    <tr>\n",
       "      <th>JobLevel</th>\n",
       "      <td>1470.0</td>\n",
       "      <td>2.063946</td>\n",
       "      <td>1.106940</td>\n",
       "      <td>1.0</td>\n",
       "      <td>1.00</td>\n",
       "      <td>2.0</td>\n",
       "      <td>3.00</td>\n",
       "      <td>5.0</td>\n",
       "    </tr>\n",
       "    <tr>\n",
       "      <th>JobSatisfaction</th>\n",
       "      <td>1470.0</td>\n",
       "      <td>2.728571</td>\n",
       "      <td>1.102846</td>\n",
       "      <td>1.0</td>\n",
       "      <td>2.00</td>\n",
       "      <td>3.0</td>\n",
       "      <td>4.00</td>\n",
       "      <td>4.0</td>\n",
       "    </tr>\n",
       "    <tr>\n",
       "      <th>MonthlyIncome</th>\n",
       "      <td>1470.0</td>\n",
       "      <td>6502.931293</td>\n",
       "      <td>4707.956783</td>\n",
       "      <td>1009.0</td>\n",
       "      <td>2911.00</td>\n",
       "      <td>4919.0</td>\n",
       "      <td>8379.00</td>\n",
       "      <td>19999.0</td>\n",
       "    </tr>\n",
       "    <tr>\n",
       "      <th>MonthlyRate</th>\n",
       "      <td>1470.0</td>\n",
       "      <td>14313.103401</td>\n",
       "      <td>7117.786044</td>\n",
       "      <td>2094.0</td>\n",
       "      <td>8047.00</td>\n",
       "      <td>14235.5</td>\n",
       "      <td>20461.50</td>\n",
       "      <td>26999.0</td>\n",
       "    </tr>\n",
       "    <tr>\n",
       "      <th>NumCompaniesWorked</th>\n",
       "      <td>1470.0</td>\n",
       "      <td>2.693197</td>\n",
       "      <td>2.498009</td>\n",
       "      <td>0.0</td>\n",
       "      <td>1.00</td>\n",
       "      <td>2.0</td>\n",
       "      <td>4.00</td>\n",
       "      <td>9.0</td>\n",
       "    </tr>\n",
       "    <tr>\n",
       "      <th>PercentSalaryHike</th>\n",
       "      <td>1470.0</td>\n",
       "      <td>15.209524</td>\n",
       "      <td>3.659938</td>\n",
       "      <td>11.0</td>\n",
       "      <td>12.00</td>\n",
       "      <td>14.0</td>\n",
       "      <td>18.00</td>\n",
       "      <td>25.0</td>\n",
       "    </tr>\n",
       "    <tr>\n",
       "      <th>PerformanceRating</th>\n",
       "      <td>1470.0</td>\n",
       "      <td>3.153741</td>\n",
       "      <td>0.360824</td>\n",
       "      <td>3.0</td>\n",
       "      <td>3.00</td>\n",
       "      <td>3.0</td>\n",
       "      <td>3.00</td>\n",
       "      <td>4.0</td>\n",
       "    </tr>\n",
       "    <tr>\n",
       "      <th>RelationshipSatisfaction</th>\n",
       "      <td>1470.0</td>\n",
       "      <td>2.712245</td>\n",
       "      <td>1.081209</td>\n",
       "      <td>1.0</td>\n",
       "      <td>2.00</td>\n",
       "      <td>3.0</td>\n",
       "      <td>4.00</td>\n",
       "      <td>4.0</td>\n",
       "    </tr>\n",
       "    <tr>\n",
       "      <th>StandardHours</th>\n",
       "      <td>1470.0</td>\n",
       "      <td>80.000000</td>\n",
       "      <td>0.000000</td>\n",
       "      <td>80.0</td>\n",
       "      <td>80.00</td>\n",
       "      <td>80.0</td>\n",
       "      <td>80.00</td>\n",
       "      <td>80.0</td>\n",
       "    </tr>\n",
       "    <tr>\n",
       "      <th>StockOptionLevel</th>\n",
       "      <td>1470.0</td>\n",
       "      <td>0.793878</td>\n",
       "      <td>0.852077</td>\n",
       "      <td>0.0</td>\n",
       "      <td>0.00</td>\n",
       "      <td>1.0</td>\n",
       "      <td>1.00</td>\n",
       "      <td>3.0</td>\n",
       "    </tr>\n",
       "    <tr>\n",
       "      <th>TotalWorkingYears</th>\n",
       "      <td>1470.0</td>\n",
       "      <td>11.279592</td>\n",
       "      <td>7.780782</td>\n",
       "      <td>0.0</td>\n",
       "      <td>6.00</td>\n",
       "      <td>10.0</td>\n",
       "      <td>15.00</td>\n",
       "      <td>40.0</td>\n",
       "    </tr>\n",
       "    <tr>\n",
       "      <th>TrainingTimesLastYear</th>\n",
       "      <td>1470.0</td>\n",
       "      <td>2.799320</td>\n",
       "      <td>1.289271</td>\n",
       "      <td>0.0</td>\n",
       "      <td>2.00</td>\n",
       "      <td>3.0</td>\n",
       "      <td>3.00</td>\n",
       "      <td>6.0</td>\n",
       "    </tr>\n",
       "    <tr>\n",
       "      <th>WorkLifeBalance</th>\n",
       "      <td>1470.0</td>\n",
       "      <td>2.761224</td>\n",
       "      <td>0.706476</td>\n",
       "      <td>1.0</td>\n",
       "      <td>2.00</td>\n",
       "      <td>3.0</td>\n",
       "      <td>3.00</td>\n",
       "      <td>4.0</td>\n",
       "    </tr>\n",
       "    <tr>\n",
       "      <th>YearsAtCompany</th>\n",
       "      <td>1470.0</td>\n",
       "      <td>7.008163</td>\n",
       "      <td>6.126525</td>\n",
       "      <td>0.0</td>\n",
       "      <td>3.00</td>\n",
       "      <td>5.0</td>\n",
       "      <td>9.00</td>\n",
       "      <td>40.0</td>\n",
       "    </tr>\n",
       "    <tr>\n",
       "      <th>YearsInCurrentRole</th>\n",
       "      <td>1470.0</td>\n",
       "      <td>4.229252</td>\n",
       "      <td>3.623137</td>\n",
       "      <td>0.0</td>\n",
       "      <td>2.00</td>\n",
       "      <td>3.0</td>\n",
       "      <td>7.00</td>\n",
       "      <td>18.0</td>\n",
       "    </tr>\n",
       "    <tr>\n",
       "      <th>YearsSinceLastPromotion</th>\n",
       "      <td>1470.0</td>\n",
       "      <td>2.187755</td>\n",
       "      <td>3.222430</td>\n",
       "      <td>0.0</td>\n",
       "      <td>0.00</td>\n",
       "      <td>1.0</td>\n",
       "      <td>3.00</td>\n",
       "      <td>15.0</td>\n",
       "    </tr>\n",
       "    <tr>\n",
       "      <th>YearsWithCurrManager</th>\n",
       "      <td>1470.0</td>\n",
       "      <td>4.123129</td>\n",
       "      <td>3.568136</td>\n",
       "      <td>0.0</td>\n",
       "      <td>2.00</td>\n",
       "      <td>3.0</td>\n",
       "      <td>7.00</td>\n",
       "      <td>17.0</td>\n",
       "    </tr>\n",
       "    <tr>\n",
       "      <th>Attrition_numeric</th>\n",
       "      <td>1470.0</td>\n",
       "      <td>0.161224</td>\n",
       "      <td>0.367863</td>\n",
       "      <td>0.0</td>\n",
       "      <td>0.00</td>\n",
       "      <td>0.0</td>\n",
       "      <td>0.00</td>\n",
       "      <td>1.0</td>\n",
       "    </tr>\n",
       "  </tbody>\n",
       "</table>\n",
       "</div>"
      ],
      "text/plain": [
       "                           count          mean          std     min      25%  \\\n",
       "Age                       1470.0     36.923810     9.135373    18.0    30.00   \n",
       "DailyRate                 1470.0    802.485714   403.509100   102.0   465.00   \n",
       "DistanceFromHome          1470.0      9.192517     8.106864     1.0     2.00   \n",
       "Education                 1470.0      2.912925     1.024165     1.0     2.00   \n",
       "EmployeeCount             1470.0      1.000000     0.000000     1.0     1.00   \n",
       "EmployeeNumber            1470.0   1024.865306   602.024335     1.0   491.25   \n",
       "EnvironmentSatisfaction   1470.0      2.721769     1.093082     1.0     2.00   \n",
       "HourlyRate                1470.0     65.891156    20.329428    30.0    48.00   \n",
       "JobInvolvement            1470.0      2.729932     0.711561     1.0     2.00   \n",
       "JobLevel                  1470.0      2.063946     1.106940     1.0     1.00   \n",
       "JobSatisfaction           1470.0      2.728571     1.102846     1.0     2.00   \n",
       "MonthlyIncome             1470.0   6502.931293  4707.956783  1009.0  2911.00   \n",
       "MonthlyRate               1470.0  14313.103401  7117.786044  2094.0  8047.00   \n",
       "NumCompaniesWorked        1470.0      2.693197     2.498009     0.0     1.00   \n",
       "PercentSalaryHike         1470.0     15.209524     3.659938    11.0    12.00   \n",
       "PerformanceRating         1470.0      3.153741     0.360824     3.0     3.00   \n",
       "RelationshipSatisfaction  1470.0      2.712245     1.081209     1.0     2.00   \n",
       "StandardHours             1470.0     80.000000     0.000000    80.0    80.00   \n",
       "StockOptionLevel          1470.0      0.793878     0.852077     0.0     0.00   \n",
       "TotalWorkingYears         1470.0     11.279592     7.780782     0.0     6.00   \n",
       "TrainingTimesLastYear     1470.0      2.799320     1.289271     0.0     2.00   \n",
       "WorkLifeBalance           1470.0      2.761224     0.706476     1.0     2.00   \n",
       "YearsAtCompany            1470.0      7.008163     6.126525     0.0     3.00   \n",
       "YearsInCurrentRole        1470.0      4.229252     3.623137     0.0     2.00   \n",
       "YearsSinceLastPromotion   1470.0      2.187755     3.222430     0.0     0.00   \n",
       "YearsWithCurrManager      1470.0      4.123129     3.568136     0.0     2.00   \n",
       "Attrition_numeric         1470.0      0.161224     0.367863     0.0     0.00   \n",
       "\n",
       "                              50%       75%      max  \n",
       "Age                          36.0     43.00     60.0  \n",
       "DailyRate                   802.0   1157.00   1499.0  \n",
       "DistanceFromHome              7.0     14.00     29.0  \n",
       "Education                     3.0      4.00      5.0  \n",
       "EmployeeCount                 1.0      1.00      1.0  \n",
       "EmployeeNumber             1020.5   1555.75   2068.0  \n",
       "EnvironmentSatisfaction       3.0      4.00      4.0  \n",
       "HourlyRate                   66.0     83.75    100.0  \n",
       "JobInvolvement                3.0      3.00      4.0  \n",
       "JobLevel                      2.0      3.00      5.0  \n",
       "JobSatisfaction               3.0      4.00      4.0  \n",
       "MonthlyIncome              4919.0   8379.00  19999.0  \n",
       "MonthlyRate               14235.5  20461.50  26999.0  \n",
       "NumCompaniesWorked            2.0      4.00      9.0  \n",
       "PercentSalaryHike            14.0     18.00     25.0  \n",
       "PerformanceRating             3.0      3.00      4.0  \n",
       "RelationshipSatisfaction      3.0      4.00      4.0  \n",
       "StandardHours                80.0     80.00     80.0  \n",
       "StockOptionLevel              1.0      1.00      3.0  \n",
       "TotalWorkingYears            10.0     15.00     40.0  \n",
       "TrainingTimesLastYear         3.0      3.00      6.0  \n",
       "WorkLifeBalance               3.0      3.00      4.0  \n",
       "YearsAtCompany                5.0      9.00     40.0  \n",
       "YearsInCurrentRole            3.0      7.00     18.0  \n",
       "YearsSinceLastPromotion       1.0      3.00     15.0  \n",
       "YearsWithCurrManager          3.0      7.00     17.0  \n",
       "Attrition_numeric             0.0      0.00      1.0  "
      ]
     },
     "execution_count": 10,
     "metadata": {},
     "output_type": "execute_result"
    }
   ],
   "source": [
    "df.describe().T"
   ]
  },
  {
   "cell_type": "code",
   "execution_count": 11,
   "metadata": {
    "colab": {
     "base_uri": "https://localhost:8080/",
     "height": 989
    },
    "id": "0ScWaDWCsdso",
    "outputId": "8f0df5b3-b027-4b9b-d0b4-16161e41093e"
   },
   "outputs": [
    {
     "data": {
      "text/html": [
       "<div>\n",
       "<style scoped>\n",
       "    .dataframe tbody tr th:only-of-type {\n",
       "        vertical-align: middle;\n",
       "    }\n",
       "\n",
       "    .dataframe tbody tr th {\n",
       "        vertical-align: top;\n",
       "    }\n",
       "\n",
       "    .dataframe thead th {\n",
       "        text-align: right;\n",
       "    }\n",
       "</style>\n",
       "<table border=\"1\" class=\"dataframe\">\n",
       "  <thead>\n",
       "    <tr style=\"text-align: right;\">\n",
       "      <th></th>\n",
       "      <th>Age</th>\n",
       "      <th>DailyRate</th>\n",
       "      <th>DistanceFromHome</th>\n",
       "      <th>Education</th>\n",
       "      <th>EmployeeCount</th>\n",
       "      <th>EmployeeNumber</th>\n",
       "      <th>EnvironmentSatisfaction</th>\n",
       "      <th>HourlyRate</th>\n",
       "      <th>JobInvolvement</th>\n",
       "      <th>JobLevel</th>\n",
       "      <th>...</th>\n",
       "      <th>StandardHours</th>\n",
       "      <th>StockOptionLevel</th>\n",
       "      <th>TotalWorkingYears</th>\n",
       "      <th>TrainingTimesLastYear</th>\n",
       "      <th>WorkLifeBalance</th>\n",
       "      <th>YearsAtCompany</th>\n",
       "      <th>YearsInCurrentRole</th>\n",
       "      <th>YearsSinceLastPromotion</th>\n",
       "      <th>YearsWithCurrManager</th>\n",
       "      <th>Attrition_numeric</th>\n",
       "    </tr>\n",
       "  </thead>\n",
       "  <tbody>\n",
       "    <tr>\n",
       "      <th>Age</th>\n",
       "      <td>1.000000</td>\n",
       "      <td>0.010661</td>\n",
       "      <td>-0.001686</td>\n",
       "      <td>0.208034</td>\n",
       "      <td>NaN</td>\n",
       "      <td>-0.010145</td>\n",
       "      <td>0.010146</td>\n",
       "      <td>0.024287</td>\n",
       "      <td>0.029820</td>\n",
       "      <td>0.509604</td>\n",
       "      <td>...</td>\n",
       "      <td>NaN</td>\n",
       "      <td>0.037510</td>\n",
       "      <td>0.680381</td>\n",
       "      <td>-0.019621</td>\n",
       "      <td>-0.021490</td>\n",
       "      <td>0.311309</td>\n",
       "      <td>0.212901</td>\n",
       "      <td>0.216513</td>\n",
       "      <td>0.202089</td>\n",
       "      <td>-0.159205</td>\n",
       "    </tr>\n",
       "    <tr>\n",
       "      <th>DailyRate</th>\n",
       "      <td>0.010661</td>\n",
       "      <td>1.000000</td>\n",
       "      <td>-0.004985</td>\n",
       "      <td>-0.016806</td>\n",
       "      <td>NaN</td>\n",
       "      <td>-0.050990</td>\n",
       "      <td>0.018355</td>\n",
       "      <td>0.023381</td>\n",
       "      <td>0.046135</td>\n",
       "      <td>0.002966</td>\n",
       "      <td>...</td>\n",
       "      <td>NaN</td>\n",
       "      <td>0.042143</td>\n",
       "      <td>0.014515</td>\n",
       "      <td>0.002453</td>\n",
       "      <td>-0.037848</td>\n",
       "      <td>-0.034055</td>\n",
       "      <td>0.009932</td>\n",
       "      <td>-0.033229</td>\n",
       "      <td>-0.026363</td>\n",
       "      <td>-0.056652</td>\n",
       "    </tr>\n",
       "    <tr>\n",
       "      <th>DistanceFromHome</th>\n",
       "      <td>-0.001686</td>\n",
       "      <td>-0.004985</td>\n",
       "      <td>1.000000</td>\n",
       "      <td>0.021042</td>\n",
       "      <td>NaN</td>\n",
       "      <td>0.032916</td>\n",
       "      <td>-0.016075</td>\n",
       "      <td>0.031131</td>\n",
       "      <td>0.008783</td>\n",
       "      <td>0.005303</td>\n",
       "      <td>...</td>\n",
       "      <td>NaN</td>\n",
       "      <td>0.044872</td>\n",
       "      <td>0.004628</td>\n",
       "      <td>-0.036942</td>\n",
       "      <td>-0.026556</td>\n",
       "      <td>0.009508</td>\n",
       "      <td>0.018845</td>\n",
       "      <td>0.010029</td>\n",
       "      <td>0.014406</td>\n",
       "      <td>0.077924</td>\n",
       "    </tr>\n",
       "    <tr>\n",
       "      <th>Education</th>\n",
       "      <td>0.208034</td>\n",
       "      <td>-0.016806</td>\n",
       "      <td>0.021042</td>\n",
       "      <td>1.000000</td>\n",
       "      <td>NaN</td>\n",
       "      <td>0.042070</td>\n",
       "      <td>-0.027128</td>\n",
       "      <td>0.016775</td>\n",
       "      <td>0.042438</td>\n",
       "      <td>0.101589</td>\n",
       "      <td>...</td>\n",
       "      <td>NaN</td>\n",
       "      <td>0.018422</td>\n",
       "      <td>0.148280</td>\n",
       "      <td>-0.025100</td>\n",
       "      <td>0.009819</td>\n",
       "      <td>0.069114</td>\n",
       "      <td>0.060236</td>\n",
       "      <td>0.054254</td>\n",
       "      <td>0.069065</td>\n",
       "      <td>-0.031373</td>\n",
       "    </tr>\n",
       "    <tr>\n",
       "      <th>EmployeeCount</th>\n",
       "      <td>NaN</td>\n",
       "      <td>NaN</td>\n",
       "      <td>NaN</td>\n",
       "      <td>NaN</td>\n",
       "      <td>NaN</td>\n",
       "      <td>NaN</td>\n",
       "      <td>NaN</td>\n",
       "      <td>NaN</td>\n",
       "      <td>NaN</td>\n",
       "      <td>NaN</td>\n",
       "      <td>...</td>\n",
       "      <td>NaN</td>\n",
       "      <td>NaN</td>\n",
       "      <td>NaN</td>\n",
       "      <td>NaN</td>\n",
       "      <td>NaN</td>\n",
       "      <td>NaN</td>\n",
       "      <td>NaN</td>\n",
       "      <td>NaN</td>\n",
       "      <td>NaN</td>\n",
       "      <td>NaN</td>\n",
       "    </tr>\n",
       "    <tr>\n",
       "      <th>EmployeeNumber</th>\n",
       "      <td>-0.010145</td>\n",
       "      <td>-0.050990</td>\n",
       "      <td>0.032916</td>\n",
       "      <td>0.042070</td>\n",
       "      <td>NaN</td>\n",
       "      <td>1.000000</td>\n",
       "      <td>0.017621</td>\n",
       "      <td>0.035179</td>\n",
       "      <td>-0.006888</td>\n",
       "      <td>-0.018519</td>\n",
       "      <td>...</td>\n",
       "      <td>NaN</td>\n",
       "      <td>0.062227</td>\n",
       "      <td>-0.014365</td>\n",
       "      <td>0.023603</td>\n",
       "      <td>0.010309</td>\n",
       "      <td>-0.011240</td>\n",
       "      <td>-0.008416</td>\n",
       "      <td>-0.009019</td>\n",
       "      <td>-0.009197</td>\n",
       "      <td>-0.010577</td>\n",
       "    </tr>\n",
       "    <tr>\n",
       "      <th>EnvironmentSatisfaction</th>\n",
       "      <td>0.010146</td>\n",
       "      <td>0.018355</td>\n",
       "      <td>-0.016075</td>\n",
       "      <td>-0.027128</td>\n",
       "      <td>NaN</td>\n",
       "      <td>0.017621</td>\n",
       "      <td>1.000000</td>\n",
       "      <td>-0.049857</td>\n",
       "      <td>-0.008278</td>\n",
       "      <td>0.001212</td>\n",
       "      <td>...</td>\n",
       "      <td>NaN</td>\n",
       "      <td>0.003432</td>\n",
       "      <td>-0.002693</td>\n",
       "      <td>-0.019359</td>\n",
       "      <td>0.027627</td>\n",
       "      <td>0.001458</td>\n",
       "      <td>0.018007</td>\n",
       "      <td>0.016194</td>\n",
       "      <td>-0.004999</td>\n",
       "      <td>-0.103369</td>\n",
       "    </tr>\n",
       "    <tr>\n",
       "      <th>HourlyRate</th>\n",
       "      <td>0.024287</td>\n",
       "      <td>0.023381</td>\n",
       "      <td>0.031131</td>\n",
       "      <td>0.016775</td>\n",
       "      <td>NaN</td>\n",
       "      <td>0.035179</td>\n",
       "      <td>-0.049857</td>\n",
       "      <td>1.000000</td>\n",
       "      <td>0.042861</td>\n",
       "      <td>-0.027853</td>\n",
       "      <td>...</td>\n",
       "      <td>NaN</td>\n",
       "      <td>0.050263</td>\n",
       "      <td>-0.002334</td>\n",
       "      <td>-0.008548</td>\n",
       "      <td>-0.004607</td>\n",
       "      <td>-0.019582</td>\n",
       "      <td>-0.024106</td>\n",
       "      <td>-0.026716</td>\n",
       "      <td>-0.020123</td>\n",
       "      <td>-0.006846</td>\n",
       "    </tr>\n",
       "    <tr>\n",
       "      <th>JobInvolvement</th>\n",
       "      <td>0.029820</td>\n",
       "      <td>0.046135</td>\n",
       "      <td>0.008783</td>\n",
       "      <td>0.042438</td>\n",
       "      <td>NaN</td>\n",
       "      <td>-0.006888</td>\n",
       "      <td>-0.008278</td>\n",
       "      <td>0.042861</td>\n",
       "      <td>1.000000</td>\n",
       "      <td>-0.012630</td>\n",
       "      <td>...</td>\n",
       "      <td>NaN</td>\n",
       "      <td>0.021523</td>\n",
       "      <td>-0.005533</td>\n",
       "      <td>-0.015338</td>\n",
       "      <td>-0.014617</td>\n",
       "      <td>-0.021355</td>\n",
       "      <td>0.008717</td>\n",
       "      <td>-0.024184</td>\n",
       "      <td>0.025976</td>\n",
       "      <td>-0.130016</td>\n",
       "    </tr>\n",
       "    <tr>\n",
       "      <th>JobLevel</th>\n",
       "      <td>0.509604</td>\n",
       "      <td>0.002966</td>\n",
       "      <td>0.005303</td>\n",
       "      <td>0.101589</td>\n",
       "      <td>NaN</td>\n",
       "      <td>-0.018519</td>\n",
       "      <td>0.001212</td>\n",
       "      <td>-0.027853</td>\n",
       "      <td>-0.012630</td>\n",
       "      <td>1.000000</td>\n",
       "      <td>...</td>\n",
       "      <td>NaN</td>\n",
       "      <td>0.013984</td>\n",
       "      <td>0.782208</td>\n",
       "      <td>-0.018191</td>\n",
       "      <td>0.037818</td>\n",
       "      <td>0.534739</td>\n",
       "      <td>0.389447</td>\n",
       "      <td>0.353885</td>\n",
       "      <td>0.375281</td>\n",
       "      <td>-0.169105</td>\n",
       "    </tr>\n",
       "    <tr>\n",
       "      <th>JobSatisfaction</th>\n",
       "      <td>-0.004892</td>\n",
       "      <td>0.030571</td>\n",
       "      <td>-0.003669</td>\n",
       "      <td>-0.011296</td>\n",
       "      <td>NaN</td>\n",
       "      <td>-0.046247</td>\n",
       "      <td>-0.006784</td>\n",
       "      <td>-0.071335</td>\n",
       "      <td>-0.021476</td>\n",
       "      <td>-0.001944</td>\n",
       "      <td>...</td>\n",
       "      <td>NaN</td>\n",
       "      <td>0.010690</td>\n",
       "      <td>-0.020185</td>\n",
       "      <td>-0.005779</td>\n",
       "      <td>-0.019459</td>\n",
       "      <td>-0.003803</td>\n",
       "      <td>-0.002305</td>\n",
       "      <td>-0.018214</td>\n",
       "      <td>-0.027656</td>\n",
       "      <td>-0.103481</td>\n",
       "    </tr>\n",
       "    <tr>\n",
       "      <th>MonthlyIncome</th>\n",
       "      <td>0.497855</td>\n",
       "      <td>0.007707</td>\n",
       "      <td>-0.017014</td>\n",
       "      <td>0.094961</td>\n",
       "      <td>NaN</td>\n",
       "      <td>-0.014829</td>\n",
       "      <td>-0.006259</td>\n",
       "      <td>-0.015794</td>\n",
       "      <td>-0.015271</td>\n",
       "      <td>0.950300</td>\n",
       "      <td>...</td>\n",
       "      <td>NaN</td>\n",
       "      <td>0.005408</td>\n",
       "      <td>0.772893</td>\n",
       "      <td>-0.021736</td>\n",
       "      <td>0.030683</td>\n",
       "      <td>0.514285</td>\n",
       "      <td>0.363818</td>\n",
       "      <td>0.344978</td>\n",
       "      <td>0.344079</td>\n",
       "      <td>-0.159840</td>\n",
       "    </tr>\n",
       "    <tr>\n",
       "      <th>MonthlyRate</th>\n",
       "      <td>0.028051</td>\n",
       "      <td>-0.032182</td>\n",
       "      <td>0.027473</td>\n",
       "      <td>-0.026084</td>\n",
       "      <td>NaN</td>\n",
       "      <td>0.012648</td>\n",
       "      <td>0.037600</td>\n",
       "      <td>-0.015297</td>\n",
       "      <td>-0.016322</td>\n",
       "      <td>0.039563</td>\n",
       "      <td>...</td>\n",
       "      <td>NaN</td>\n",
       "      <td>-0.034323</td>\n",
       "      <td>0.026442</td>\n",
       "      <td>0.001467</td>\n",
       "      <td>0.007963</td>\n",
       "      <td>-0.023655</td>\n",
       "      <td>-0.012815</td>\n",
       "      <td>0.001567</td>\n",
       "      <td>-0.036746</td>\n",
       "      <td>0.015170</td>\n",
       "    </tr>\n",
       "    <tr>\n",
       "      <th>NumCompaniesWorked</th>\n",
       "      <td>0.299635</td>\n",
       "      <td>0.038153</td>\n",
       "      <td>-0.029251</td>\n",
       "      <td>0.126317</td>\n",
       "      <td>NaN</td>\n",
       "      <td>-0.001251</td>\n",
       "      <td>0.012594</td>\n",
       "      <td>0.022157</td>\n",
       "      <td>0.015012</td>\n",
       "      <td>0.142501</td>\n",
       "      <td>...</td>\n",
       "      <td>NaN</td>\n",
       "      <td>0.030075</td>\n",
       "      <td>0.237639</td>\n",
       "      <td>-0.066054</td>\n",
       "      <td>-0.008366</td>\n",
       "      <td>-0.118421</td>\n",
       "      <td>-0.090754</td>\n",
       "      <td>-0.036814</td>\n",
       "      <td>-0.110319</td>\n",
       "      <td>0.043494</td>\n",
       "    </tr>\n",
       "    <tr>\n",
       "      <th>PercentSalaryHike</th>\n",
       "      <td>0.003634</td>\n",
       "      <td>0.022704</td>\n",
       "      <td>0.040235</td>\n",
       "      <td>-0.011111</td>\n",
       "      <td>NaN</td>\n",
       "      <td>-0.012944</td>\n",
       "      <td>-0.031701</td>\n",
       "      <td>-0.009062</td>\n",
       "      <td>-0.017205</td>\n",
       "      <td>-0.034730</td>\n",
       "      <td>...</td>\n",
       "      <td>NaN</td>\n",
       "      <td>0.007528</td>\n",
       "      <td>-0.020608</td>\n",
       "      <td>-0.005221</td>\n",
       "      <td>-0.003280</td>\n",
       "      <td>-0.035991</td>\n",
       "      <td>-0.001520</td>\n",
       "      <td>-0.022154</td>\n",
       "      <td>-0.011985</td>\n",
       "      <td>-0.013478</td>\n",
       "    </tr>\n",
       "    <tr>\n",
       "      <th>PerformanceRating</th>\n",
       "      <td>0.001904</td>\n",
       "      <td>0.000473</td>\n",
       "      <td>0.027110</td>\n",
       "      <td>-0.024539</td>\n",
       "      <td>NaN</td>\n",
       "      <td>-0.020359</td>\n",
       "      <td>-0.029548</td>\n",
       "      <td>-0.002172</td>\n",
       "      <td>-0.029071</td>\n",
       "      <td>-0.021222</td>\n",
       "      <td>...</td>\n",
       "      <td>NaN</td>\n",
       "      <td>0.003506</td>\n",
       "      <td>0.006744</td>\n",
       "      <td>-0.015579</td>\n",
       "      <td>0.002572</td>\n",
       "      <td>0.003435</td>\n",
       "      <td>0.034986</td>\n",
       "      <td>0.017896</td>\n",
       "      <td>0.022827</td>\n",
       "      <td>0.002889</td>\n",
       "    </tr>\n",
       "    <tr>\n",
       "      <th>RelationshipSatisfaction</th>\n",
       "      <td>0.053535</td>\n",
       "      <td>0.007846</td>\n",
       "      <td>0.006557</td>\n",
       "      <td>-0.009118</td>\n",
       "      <td>NaN</td>\n",
       "      <td>-0.069861</td>\n",
       "      <td>0.007665</td>\n",
       "      <td>0.001330</td>\n",
       "      <td>0.034297</td>\n",
       "      <td>0.021642</td>\n",
       "      <td>...</td>\n",
       "      <td>NaN</td>\n",
       "      <td>-0.045952</td>\n",
       "      <td>0.024054</td>\n",
       "      <td>0.002497</td>\n",
       "      <td>0.019604</td>\n",
       "      <td>0.019367</td>\n",
       "      <td>-0.015123</td>\n",
       "      <td>0.033493</td>\n",
       "      <td>-0.000867</td>\n",
       "      <td>-0.045872</td>\n",
       "    </tr>\n",
       "    <tr>\n",
       "      <th>StandardHours</th>\n",
       "      <td>NaN</td>\n",
       "      <td>NaN</td>\n",
       "      <td>NaN</td>\n",
       "      <td>NaN</td>\n",
       "      <td>NaN</td>\n",
       "      <td>NaN</td>\n",
       "      <td>NaN</td>\n",
       "      <td>NaN</td>\n",
       "      <td>NaN</td>\n",
       "      <td>NaN</td>\n",
       "      <td>...</td>\n",
       "      <td>NaN</td>\n",
       "      <td>NaN</td>\n",
       "      <td>NaN</td>\n",
       "      <td>NaN</td>\n",
       "      <td>NaN</td>\n",
       "      <td>NaN</td>\n",
       "      <td>NaN</td>\n",
       "      <td>NaN</td>\n",
       "      <td>NaN</td>\n",
       "      <td>NaN</td>\n",
       "    </tr>\n",
       "    <tr>\n",
       "      <th>StockOptionLevel</th>\n",
       "      <td>0.037510</td>\n",
       "      <td>0.042143</td>\n",
       "      <td>0.044872</td>\n",
       "      <td>0.018422</td>\n",
       "      <td>NaN</td>\n",
       "      <td>0.062227</td>\n",
       "      <td>0.003432</td>\n",
       "      <td>0.050263</td>\n",
       "      <td>0.021523</td>\n",
       "      <td>0.013984</td>\n",
       "      <td>...</td>\n",
       "      <td>NaN</td>\n",
       "      <td>1.000000</td>\n",
       "      <td>0.010136</td>\n",
       "      <td>0.011274</td>\n",
       "      <td>0.004129</td>\n",
       "      <td>0.015058</td>\n",
       "      <td>0.050818</td>\n",
       "      <td>0.014352</td>\n",
       "      <td>0.024698</td>\n",
       "      <td>-0.137145</td>\n",
       "    </tr>\n",
       "    <tr>\n",
       "      <th>TotalWorkingYears</th>\n",
       "      <td>0.680381</td>\n",
       "      <td>0.014515</td>\n",
       "      <td>0.004628</td>\n",
       "      <td>0.148280</td>\n",
       "      <td>NaN</td>\n",
       "      <td>-0.014365</td>\n",
       "      <td>-0.002693</td>\n",
       "      <td>-0.002334</td>\n",
       "      <td>-0.005533</td>\n",
       "      <td>0.782208</td>\n",
       "      <td>...</td>\n",
       "      <td>NaN</td>\n",
       "      <td>0.010136</td>\n",
       "      <td>1.000000</td>\n",
       "      <td>-0.035662</td>\n",
       "      <td>0.001008</td>\n",
       "      <td>0.628133</td>\n",
       "      <td>0.460365</td>\n",
       "      <td>0.404858</td>\n",
       "      <td>0.459188</td>\n",
       "      <td>-0.171063</td>\n",
       "    </tr>\n",
       "    <tr>\n",
       "      <th>TrainingTimesLastYear</th>\n",
       "      <td>-0.019621</td>\n",
       "      <td>0.002453</td>\n",
       "      <td>-0.036942</td>\n",
       "      <td>-0.025100</td>\n",
       "      <td>NaN</td>\n",
       "      <td>0.023603</td>\n",
       "      <td>-0.019359</td>\n",
       "      <td>-0.008548</td>\n",
       "      <td>-0.015338</td>\n",
       "      <td>-0.018191</td>\n",
       "      <td>...</td>\n",
       "      <td>NaN</td>\n",
       "      <td>0.011274</td>\n",
       "      <td>-0.035662</td>\n",
       "      <td>1.000000</td>\n",
       "      <td>0.028072</td>\n",
       "      <td>0.003569</td>\n",
       "      <td>-0.005738</td>\n",
       "      <td>-0.002067</td>\n",
       "      <td>-0.004096</td>\n",
       "      <td>-0.059478</td>\n",
       "    </tr>\n",
       "    <tr>\n",
       "      <th>WorkLifeBalance</th>\n",
       "      <td>-0.021490</td>\n",
       "      <td>-0.037848</td>\n",
       "      <td>-0.026556</td>\n",
       "      <td>0.009819</td>\n",
       "      <td>NaN</td>\n",
       "      <td>0.010309</td>\n",
       "      <td>0.027627</td>\n",
       "      <td>-0.004607</td>\n",
       "      <td>-0.014617</td>\n",
       "      <td>0.037818</td>\n",
       "      <td>...</td>\n",
       "      <td>NaN</td>\n",
       "      <td>0.004129</td>\n",
       "      <td>0.001008</td>\n",
       "      <td>0.028072</td>\n",
       "      <td>1.000000</td>\n",
       "      <td>0.012089</td>\n",
       "      <td>0.049856</td>\n",
       "      <td>0.008941</td>\n",
       "      <td>0.002759</td>\n",
       "      <td>-0.063939</td>\n",
       "    </tr>\n",
       "    <tr>\n",
       "      <th>YearsAtCompany</th>\n",
       "      <td>0.311309</td>\n",
       "      <td>-0.034055</td>\n",
       "      <td>0.009508</td>\n",
       "      <td>0.069114</td>\n",
       "      <td>NaN</td>\n",
       "      <td>-0.011240</td>\n",
       "      <td>0.001458</td>\n",
       "      <td>-0.019582</td>\n",
       "      <td>-0.021355</td>\n",
       "      <td>0.534739</td>\n",
       "      <td>...</td>\n",
       "      <td>NaN</td>\n",
       "      <td>0.015058</td>\n",
       "      <td>0.628133</td>\n",
       "      <td>0.003569</td>\n",
       "      <td>0.012089</td>\n",
       "      <td>1.000000</td>\n",
       "      <td>0.758754</td>\n",
       "      <td>0.618409</td>\n",
       "      <td>0.769212</td>\n",
       "      <td>-0.134392</td>\n",
       "    </tr>\n",
       "    <tr>\n",
       "      <th>YearsInCurrentRole</th>\n",
       "      <td>0.212901</td>\n",
       "      <td>0.009932</td>\n",
       "      <td>0.018845</td>\n",
       "      <td>0.060236</td>\n",
       "      <td>NaN</td>\n",
       "      <td>-0.008416</td>\n",
       "      <td>0.018007</td>\n",
       "      <td>-0.024106</td>\n",
       "      <td>0.008717</td>\n",
       "      <td>0.389447</td>\n",
       "      <td>...</td>\n",
       "      <td>NaN</td>\n",
       "      <td>0.050818</td>\n",
       "      <td>0.460365</td>\n",
       "      <td>-0.005738</td>\n",
       "      <td>0.049856</td>\n",
       "      <td>0.758754</td>\n",
       "      <td>1.000000</td>\n",
       "      <td>0.548056</td>\n",
       "      <td>0.714365</td>\n",
       "      <td>-0.160545</td>\n",
       "    </tr>\n",
       "    <tr>\n",
       "      <th>YearsSinceLastPromotion</th>\n",
       "      <td>0.216513</td>\n",
       "      <td>-0.033229</td>\n",
       "      <td>0.010029</td>\n",
       "      <td>0.054254</td>\n",
       "      <td>NaN</td>\n",
       "      <td>-0.009019</td>\n",
       "      <td>0.016194</td>\n",
       "      <td>-0.026716</td>\n",
       "      <td>-0.024184</td>\n",
       "      <td>0.353885</td>\n",
       "      <td>...</td>\n",
       "      <td>NaN</td>\n",
       "      <td>0.014352</td>\n",
       "      <td>0.404858</td>\n",
       "      <td>-0.002067</td>\n",
       "      <td>0.008941</td>\n",
       "      <td>0.618409</td>\n",
       "      <td>0.548056</td>\n",
       "      <td>1.000000</td>\n",
       "      <td>0.510224</td>\n",
       "      <td>-0.033019</td>\n",
       "    </tr>\n",
       "    <tr>\n",
       "      <th>YearsWithCurrManager</th>\n",
       "      <td>0.202089</td>\n",
       "      <td>-0.026363</td>\n",
       "      <td>0.014406</td>\n",
       "      <td>0.069065</td>\n",
       "      <td>NaN</td>\n",
       "      <td>-0.009197</td>\n",
       "      <td>-0.004999</td>\n",
       "      <td>-0.020123</td>\n",
       "      <td>0.025976</td>\n",
       "      <td>0.375281</td>\n",
       "      <td>...</td>\n",
       "      <td>NaN</td>\n",
       "      <td>0.024698</td>\n",
       "      <td>0.459188</td>\n",
       "      <td>-0.004096</td>\n",
       "      <td>0.002759</td>\n",
       "      <td>0.769212</td>\n",
       "      <td>0.714365</td>\n",
       "      <td>0.510224</td>\n",
       "      <td>1.000000</td>\n",
       "      <td>-0.156199</td>\n",
       "    </tr>\n",
       "    <tr>\n",
       "      <th>Attrition_numeric</th>\n",
       "      <td>-0.159205</td>\n",
       "      <td>-0.056652</td>\n",
       "      <td>0.077924</td>\n",
       "      <td>-0.031373</td>\n",
       "      <td>NaN</td>\n",
       "      <td>-0.010577</td>\n",
       "      <td>-0.103369</td>\n",
       "      <td>-0.006846</td>\n",
       "      <td>-0.130016</td>\n",
       "      <td>-0.169105</td>\n",
       "      <td>...</td>\n",
       "      <td>NaN</td>\n",
       "      <td>-0.137145</td>\n",
       "      <td>-0.171063</td>\n",
       "      <td>-0.059478</td>\n",
       "      <td>-0.063939</td>\n",
       "      <td>-0.134392</td>\n",
       "      <td>-0.160545</td>\n",
       "      <td>-0.033019</td>\n",
       "      <td>-0.156199</td>\n",
       "      <td>1.000000</td>\n",
       "    </tr>\n",
       "  </tbody>\n",
       "</table>\n",
       "<p>27 rows × 27 columns</p>\n",
       "</div>"
      ],
      "text/plain": [
       "                               Age  DailyRate  DistanceFromHome  Education  \\\n",
       "Age                       1.000000   0.010661         -0.001686   0.208034   \n",
       "DailyRate                 0.010661   1.000000         -0.004985  -0.016806   \n",
       "DistanceFromHome         -0.001686  -0.004985          1.000000   0.021042   \n",
       "Education                 0.208034  -0.016806          0.021042   1.000000   \n",
       "EmployeeCount                  NaN        NaN               NaN        NaN   \n",
       "EmployeeNumber           -0.010145  -0.050990          0.032916   0.042070   \n",
       "EnvironmentSatisfaction   0.010146   0.018355         -0.016075  -0.027128   \n",
       "HourlyRate                0.024287   0.023381          0.031131   0.016775   \n",
       "JobInvolvement            0.029820   0.046135          0.008783   0.042438   \n",
       "JobLevel                  0.509604   0.002966          0.005303   0.101589   \n",
       "JobSatisfaction          -0.004892   0.030571         -0.003669  -0.011296   \n",
       "MonthlyIncome             0.497855   0.007707         -0.017014   0.094961   \n",
       "MonthlyRate               0.028051  -0.032182          0.027473  -0.026084   \n",
       "NumCompaniesWorked        0.299635   0.038153         -0.029251   0.126317   \n",
       "PercentSalaryHike         0.003634   0.022704          0.040235  -0.011111   \n",
       "PerformanceRating         0.001904   0.000473          0.027110  -0.024539   \n",
       "RelationshipSatisfaction  0.053535   0.007846          0.006557  -0.009118   \n",
       "StandardHours                  NaN        NaN               NaN        NaN   \n",
       "StockOptionLevel          0.037510   0.042143          0.044872   0.018422   \n",
       "TotalWorkingYears         0.680381   0.014515          0.004628   0.148280   \n",
       "TrainingTimesLastYear    -0.019621   0.002453         -0.036942  -0.025100   \n",
       "WorkLifeBalance          -0.021490  -0.037848         -0.026556   0.009819   \n",
       "YearsAtCompany            0.311309  -0.034055          0.009508   0.069114   \n",
       "YearsInCurrentRole        0.212901   0.009932          0.018845   0.060236   \n",
       "YearsSinceLastPromotion   0.216513  -0.033229          0.010029   0.054254   \n",
       "YearsWithCurrManager      0.202089  -0.026363          0.014406   0.069065   \n",
       "Attrition_numeric        -0.159205  -0.056652          0.077924  -0.031373   \n",
       "\n",
       "                          EmployeeCount  EmployeeNumber  \\\n",
       "Age                                 NaN       -0.010145   \n",
       "DailyRate                           NaN       -0.050990   \n",
       "DistanceFromHome                    NaN        0.032916   \n",
       "Education                           NaN        0.042070   \n",
       "EmployeeCount                       NaN             NaN   \n",
       "EmployeeNumber                      NaN        1.000000   \n",
       "EnvironmentSatisfaction             NaN        0.017621   \n",
       "HourlyRate                          NaN        0.035179   \n",
       "JobInvolvement                      NaN       -0.006888   \n",
       "JobLevel                            NaN       -0.018519   \n",
       "JobSatisfaction                     NaN       -0.046247   \n",
       "MonthlyIncome                       NaN       -0.014829   \n",
       "MonthlyRate                         NaN        0.012648   \n",
       "NumCompaniesWorked                  NaN       -0.001251   \n",
       "PercentSalaryHike                   NaN       -0.012944   \n",
       "PerformanceRating                   NaN       -0.020359   \n",
       "RelationshipSatisfaction            NaN       -0.069861   \n",
       "StandardHours                       NaN             NaN   \n",
       "StockOptionLevel                    NaN        0.062227   \n",
       "TotalWorkingYears                   NaN       -0.014365   \n",
       "TrainingTimesLastYear               NaN        0.023603   \n",
       "WorkLifeBalance                     NaN        0.010309   \n",
       "YearsAtCompany                      NaN       -0.011240   \n",
       "YearsInCurrentRole                  NaN       -0.008416   \n",
       "YearsSinceLastPromotion             NaN       -0.009019   \n",
       "YearsWithCurrManager                NaN       -0.009197   \n",
       "Attrition_numeric                   NaN       -0.010577   \n",
       "\n",
       "                          EnvironmentSatisfaction  HourlyRate  JobInvolvement  \\\n",
       "Age                                      0.010146    0.024287        0.029820   \n",
       "DailyRate                                0.018355    0.023381        0.046135   \n",
       "DistanceFromHome                        -0.016075    0.031131        0.008783   \n",
       "Education                               -0.027128    0.016775        0.042438   \n",
       "EmployeeCount                                 NaN         NaN             NaN   \n",
       "EmployeeNumber                           0.017621    0.035179       -0.006888   \n",
       "EnvironmentSatisfaction                  1.000000   -0.049857       -0.008278   \n",
       "HourlyRate                              -0.049857    1.000000        0.042861   \n",
       "JobInvolvement                          -0.008278    0.042861        1.000000   \n",
       "JobLevel                                 0.001212   -0.027853       -0.012630   \n",
       "JobSatisfaction                         -0.006784   -0.071335       -0.021476   \n",
       "MonthlyIncome                           -0.006259   -0.015794       -0.015271   \n",
       "MonthlyRate                              0.037600   -0.015297       -0.016322   \n",
       "NumCompaniesWorked                       0.012594    0.022157        0.015012   \n",
       "PercentSalaryHike                       -0.031701   -0.009062       -0.017205   \n",
       "PerformanceRating                       -0.029548   -0.002172       -0.029071   \n",
       "RelationshipSatisfaction                 0.007665    0.001330        0.034297   \n",
       "StandardHours                                 NaN         NaN             NaN   \n",
       "StockOptionLevel                         0.003432    0.050263        0.021523   \n",
       "TotalWorkingYears                       -0.002693   -0.002334       -0.005533   \n",
       "TrainingTimesLastYear                   -0.019359   -0.008548       -0.015338   \n",
       "WorkLifeBalance                          0.027627   -0.004607       -0.014617   \n",
       "YearsAtCompany                           0.001458   -0.019582       -0.021355   \n",
       "YearsInCurrentRole                       0.018007   -0.024106        0.008717   \n",
       "YearsSinceLastPromotion                  0.016194   -0.026716       -0.024184   \n",
       "YearsWithCurrManager                    -0.004999   -0.020123        0.025976   \n",
       "Attrition_numeric                       -0.103369   -0.006846       -0.130016   \n",
       "\n",
       "                          JobLevel  ...  StandardHours  StockOptionLevel  \\\n",
       "Age                       0.509604  ...            NaN          0.037510   \n",
       "DailyRate                 0.002966  ...            NaN          0.042143   \n",
       "DistanceFromHome          0.005303  ...            NaN          0.044872   \n",
       "Education                 0.101589  ...            NaN          0.018422   \n",
       "EmployeeCount                  NaN  ...            NaN               NaN   \n",
       "EmployeeNumber           -0.018519  ...            NaN          0.062227   \n",
       "EnvironmentSatisfaction   0.001212  ...            NaN          0.003432   \n",
       "HourlyRate               -0.027853  ...            NaN          0.050263   \n",
       "JobInvolvement           -0.012630  ...            NaN          0.021523   \n",
       "JobLevel                  1.000000  ...            NaN          0.013984   \n",
       "JobSatisfaction          -0.001944  ...            NaN          0.010690   \n",
       "MonthlyIncome             0.950300  ...            NaN          0.005408   \n",
       "MonthlyRate               0.039563  ...            NaN         -0.034323   \n",
       "NumCompaniesWorked        0.142501  ...            NaN          0.030075   \n",
       "PercentSalaryHike        -0.034730  ...            NaN          0.007528   \n",
       "PerformanceRating        -0.021222  ...            NaN          0.003506   \n",
       "RelationshipSatisfaction  0.021642  ...            NaN         -0.045952   \n",
       "StandardHours                  NaN  ...            NaN               NaN   \n",
       "StockOptionLevel          0.013984  ...            NaN          1.000000   \n",
       "TotalWorkingYears         0.782208  ...            NaN          0.010136   \n",
       "TrainingTimesLastYear    -0.018191  ...            NaN          0.011274   \n",
       "WorkLifeBalance           0.037818  ...            NaN          0.004129   \n",
       "YearsAtCompany            0.534739  ...            NaN          0.015058   \n",
       "YearsInCurrentRole        0.389447  ...            NaN          0.050818   \n",
       "YearsSinceLastPromotion   0.353885  ...            NaN          0.014352   \n",
       "YearsWithCurrManager      0.375281  ...            NaN          0.024698   \n",
       "Attrition_numeric        -0.169105  ...            NaN         -0.137145   \n",
       "\n",
       "                          TotalWorkingYears  TrainingTimesLastYear  \\\n",
       "Age                                0.680381              -0.019621   \n",
       "DailyRate                          0.014515               0.002453   \n",
       "DistanceFromHome                   0.004628              -0.036942   \n",
       "Education                          0.148280              -0.025100   \n",
       "EmployeeCount                           NaN                    NaN   \n",
       "EmployeeNumber                    -0.014365               0.023603   \n",
       "EnvironmentSatisfaction           -0.002693              -0.019359   \n",
       "HourlyRate                        -0.002334              -0.008548   \n",
       "JobInvolvement                    -0.005533              -0.015338   \n",
       "JobLevel                           0.782208              -0.018191   \n",
       "JobSatisfaction                   -0.020185              -0.005779   \n",
       "MonthlyIncome                      0.772893              -0.021736   \n",
       "MonthlyRate                        0.026442               0.001467   \n",
       "NumCompaniesWorked                 0.237639              -0.066054   \n",
       "PercentSalaryHike                 -0.020608              -0.005221   \n",
       "PerformanceRating                  0.006744              -0.015579   \n",
       "RelationshipSatisfaction           0.024054               0.002497   \n",
       "StandardHours                           NaN                    NaN   \n",
       "StockOptionLevel                   0.010136               0.011274   \n",
       "TotalWorkingYears                  1.000000              -0.035662   \n",
       "TrainingTimesLastYear             -0.035662               1.000000   \n",
       "WorkLifeBalance                    0.001008               0.028072   \n",
       "YearsAtCompany                     0.628133               0.003569   \n",
       "YearsInCurrentRole                 0.460365              -0.005738   \n",
       "YearsSinceLastPromotion            0.404858              -0.002067   \n",
       "YearsWithCurrManager               0.459188              -0.004096   \n",
       "Attrition_numeric                 -0.171063              -0.059478   \n",
       "\n",
       "                          WorkLifeBalance  YearsAtCompany  YearsInCurrentRole  \\\n",
       "Age                             -0.021490        0.311309            0.212901   \n",
       "DailyRate                       -0.037848       -0.034055            0.009932   \n",
       "DistanceFromHome                -0.026556        0.009508            0.018845   \n",
       "Education                        0.009819        0.069114            0.060236   \n",
       "EmployeeCount                         NaN             NaN                 NaN   \n",
       "EmployeeNumber                   0.010309       -0.011240           -0.008416   \n",
       "EnvironmentSatisfaction          0.027627        0.001458            0.018007   \n",
       "HourlyRate                      -0.004607       -0.019582           -0.024106   \n",
       "JobInvolvement                  -0.014617       -0.021355            0.008717   \n",
       "JobLevel                         0.037818        0.534739            0.389447   \n",
       "JobSatisfaction                 -0.019459       -0.003803           -0.002305   \n",
       "MonthlyIncome                    0.030683        0.514285            0.363818   \n",
       "MonthlyRate                      0.007963       -0.023655           -0.012815   \n",
       "NumCompaniesWorked              -0.008366       -0.118421           -0.090754   \n",
       "PercentSalaryHike               -0.003280       -0.035991           -0.001520   \n",
       "PerformanceRating                0.002572        0.003435            0.034986   \n",
       "RelationshipSatisfaction         0.019604        0.019367           -0.015123   \n",
       "StandardHours                         NaN             NaN                 NaN   \n",
       "StockOptionLevel                 0.004129        0.015058            0.050818   \n",
       "TotalWorkingYears                0.001008        0.628133            0.460365   \n",
       "TrainingTimesLastYear            0.028072        0.003569           -0.005738   \n",
       "WorkLifeBalance                  1.000000        0.012089            0.049856   \n",
       "YearsAtCompany                   0.012089        1.000000            0.758754   \n",
       "YearsInCurrentRole               0.049856        0.758754            1.000000   \n",
       "YearsSinceLastPromotion          0.008941        0.618409            0.548056   \n",
       "YearsWithCurrManager             0.002759        0.769212            0.714365   \n",
       "Attrition_numeric               -0.063939       -0.134392           -0.160545   \n",
       "\n",
       "                          YearsSinceLastPromotion  YearsWithCurrManager  \\\n",
       "Age                                      0.216513              0.202089   \n",
       "DailyRate                               -0.033229             -0.026363   \n",
       "DistanceFromHome                         0.010029              0.014406   \n",
       "Education                                0.054254              0.069065   \n",
       "EmployeeCount                                 NaN                   NaN   \n",
       "EmployeeNumber                          -0.009019             -0.009197   \n",
       "EnvironmentSatisfaction                  0.016194             -0.004999   \n",
       "HourlyRate                              -0.026716             -0.020123   \n",
       "JobInvolvement                          -0.024184              0.025976   \n",
       "JobLevel                                 0.353885              0.375281   \n",
       "JobSatisfaction                         -0.018214             -0.027656   \n",
       "MonthlyIncome                            0.344978              0.344079   \n",
       "MonthlyRate                              0.001567             -0.036746   \n",
       "NumCompaniesWorked                      -0.036814             -0.110319   \n",
       "PercentSalaryHike                       -0.022154             -0.011985   \n",
       "PerformanceRating                        0.017896              0.022827   \n",
       "RelationshipSatisfaction                 0.033493             -0.000867   \n",
       "StandardHours                                 NaN                   NaN   \n",
       "StockOptionLevel                         0.014352              0.024698   \n",
       "TotalWorkingYears                        0.404858              0.459188   \n",
       "TrainingTimesLastYear                   -0.002067             -0.004096   \n",
       "WorkLifeBalance                          0.008941              0.002759   \n",
       "YearsAtCompany                           0.618409              0.769212   \n",
       "YearsInCurrentRole                       0.548056              0.714365   \n",
       "YearsSinceLastPromotion                  1.000000              0.510224   \n",
       "YearsWithCurrManager                     0.510224              1.000000   \n",
       "Attrition_numeric                       -0.033019             -0.156199   \n",
       "\n",
       "                          Attrition_numeric  \n",
       "Age                               -0.159205  \n",
       "DailyRate                         -0.056652  \n",
       "DistanceFromHome                   0.077924  \n",
       "Education                         -0.031373  \n",
       "EmployeeCount                           NaN  \n",
       "EmployeeNumber                    -0.010577  \n",
       "EnvironmentSatisfaction           -0.103369  \n",
       "HourlyRate                        -0.006846  \n",
       "JobInvolvement                    -0.130016  \n",
       "JobLevel                          -0.169105  \n",
       "JobSatisfaction                   -0.103481  \n",
       "MonthlyIncome                     -0.159840  \n",
       "MonthlyRate                        0.015170  \n",
       "NumCompaniesWorked                 0.043494  \n",
       "PercentSalaryHike                 -0.013478  \n",
       "PerformanceRating                  0.002889  \n",
       "RelationshipSatisfaction          -0.045872  \n",
       "StandardHours                           NaN  \n",
       "StockOptionLevel                  -0.137145  \n",
       "TotalWorkingYears                 -0.171063  \n",
       "TrainingTimesLastYear             -0.059478  \n",
       "WorkLifeBalance                   -0.063939  \n",
       "YearsAtCompany                    -0.134392  \n",
       "YearsInCurrentRole                -0.160545  \n",
       "YearsSinceLastPromotion           -0.033019  \n",
       "YearsWithCurrManager              -0.156199  \n",
       "Attrition_numeric                  1.000000  \n",
       "\n",
       "[27 rows x 27 columns]"
      ]
     },
     "execution_count": 11,
     "metadata": {},
     "output_type": "execute_result"
    }
   ],
   "source": [
    "df.corr()"
   ]
  },
  {
   "cell_type": "markdown",
   "metadata": {
    "id": "09rLsW3Rto1K"
   },
   "source": [
    "**Some columns in our dataset are of no use for the target variable so let's drop those columns**"
   ]
  },
  {
   "cell_type": "code",
   "execution_count": 12,
   "metadata": {
    "id": "xqfZqj5ntDX0"
   },
   "outputs": [],
   "source": [
    "df.drop(['EmployeeCount', 'EmployeeNumber', 'Over18', 'StandardHours',\"Attrition\"], axis=\"columns\", inplace=True)\n"
   ]
  },
  {
   "cell_type": "code",
   "execution_count": 13,
   "metadata": {
    "colab": {
     "base_uri": "https://localhost:8080/",
     "height": 802
    },
    "id": "wq9Bw8ewt86Q",
    "outputId": "afaae65e-af87-4319-a21a-549b31f90caa"
   },
   "outputs": [
    {
     "data": {
      "text/html": [
       "<div>\n",
       "<style scoped>\n",
       "    .dataframe tbody tr th:only-of-type {\n",
       "        vertical-align: middle;\n",
       "    }\n",
       "\n",
       "    .dataframe tbody tr th {\n",
       "        vertical-align: top;\n",
       "    }\n",
       "\n",
       "    .dataframe thead th {\n",
       "        text-align: right;\n",
       "    }\n",
       "</style>\n",
       "<table border=\"1\" class=\"dataframe\">\n",
       "  <thead>\n",
       "    <tr style=\"text-align: right;\">\n",
       "      <th></th>\n",
       "      <th>count</th>\n",
       "      <th>mean</th>\n",
       "      <th>std</th>\n",
       "      <th>min</th>\n",
       "      <th>25%</th>\n",
       "      <th>50%</th>\n",
       "      <th>75%</th>\n",
       "      <th>max</th>\n",
       "    </tr>\n",
       "  </thead>\n",
       "  <tbody>\n",
       "    <tr>\n",
       "      <th>Age</th>\n",
       "      <td>1470.0</td>\n",
       "      <td>36.923810</td>\n",
       "      <td>9.135373</td>\n",
       "      <td>18.0</td>\n",
       "      <td>30.0</td>\n",
       "      <td>36.0</td>\n",
       "      <td>43.00</td>\n",
       "      <td>60.0</td>\n",
       "    </tr>\n",
       "    <tr>\n",
       "      <th>DailyRate</th>\n",
       "      <td>1470.0</td>\n",
       "      <td>802.485714</td>\n",
       "      <td>403.509100</td>\n",
       "      <td>102.0</td>\n",
       "      <td>465.0</td>\n",
       "      <td>802.0</td>\n",
       "      <td>1157.00</td>\n",
       "      <td>1499.0</td>\n",
       "    </tr>\n",
       "    <tr>\n",
       "      <th>DistanceFromHome</th>\n",
       "      <td>1470.0</td>\n",
       "      <td>9.192517</td>\n",
       "      <td>8.106864</td>\n",
       "      <td>1.0</td>\n",
       "      <td>2.0</td>\n",
       "      <td>7.0</td>\n",
       "      <td>14.00</td>\n",
       "      <td>29.0</td>\n",
       "    </tr>\n",
       "    <tr>\n",
       "      <th>Education</th>\n",
       "      <td>1470.0</td>\n",
       "      <td>2.912925</td>\n",
       "      <td>1.024165</td>\n",
       "      <td>1.0</td>\n",
       "      <td>2.0</td>\n",
       "      <td>3.0</td>\n",
       "      <td>4.00</td>\n",
       "      <td>5.0</td>\n",
       "    </tr>\n",
       "    <tr>\n",
       "      <th>EnvironmentSatisfaction</th>\n",
       "      <td>1470.0</td>\n",
       "      <td>2.721769</td>\n",
       "      <td>1.093082</td>\n",
       "      <td>1.0</td>\n",
       "      <td>2.0</td>\n",
       "      <td>3.0</td>\n",
       "      <td>4.00</td>\n",
       "      <td>4.0</td>\n",
       "    </tr>\n",
       "    <tr>\n",
       "      <th>HourlyRate</th>\n",
       "      <td>1470.0</td>\n",
       "      <td>65.891156</td>\n",
       "      <td>20.329428</td>\n",
       "      <td>30.0</td>\n",
       "      <td>48.0</td>\n",
       "      <td>66.0</td>\n",
       "      <td>83.75</td>\n",
       "      <td>100.0</td>\n",
       "    </tr>\n",
       "    <tr>\n",
       "      <th>JobInvolvement</th>\n",
       "      <td>1470.0</td>\n",
       "      <td>2.729932</td>\n",
       "      <td>0.711561</td>\n",
       "      <td>1.0</td>\n",
       "      <td>2.0</td>\n",
       "      <td>3.0</td>\n",
       "      <td>3.00</td>\n",
       "      <td>4.0</td>\n",
       "    </tr>\n",
       "    <tr>\n",
       "      <th>JobLevel</th>\n",
       "      <td>1470.0</td>\n",
       "      <td>2.063946</td>\n",
       "      <td>1.106940</td>\n",
       "      <td>1.0</td>\n",
       "      <td>1.0</td>\n",
       "      <td>2.0</td>\n",
       "      <td>3.00</td>\n",
       "      <td>5.0</td>\n",
       "    </tr>\n",
       "    <tr>\n",
       "      <th>JobSatisfaction</th>\n",
       "      <td>1470.0</td>\n",
       "      <td>2.728571</td>\n",
       "      <td>1.102846</td>\n",
       "      <td>1.0</td>\n",
       "      <td>2.0</td>\n",
       "      <td>3.0</td>\n",
       "      <td>4.00</td>\n",
       "      <td>4.0</td>\n",
       "    </tr>\n",
       "    <tr>\n",
       "      <th>MonthlyIncome</th>\n",
       "      <td>1470.0</td>\n",
       "      <td>6502.931293</td>\n",
       "      <td>4707.956783</td>\n",
       "      <td>1009.0</td>\n",
       "      <td>2911.0</td>\n",
       "      <td>4919.0</td>\n",
       "      <td>8379.00</td>\n",
       "      <td>19999.0</td>\n",
       "    </tr>\n",
       "    <tr>\n",
       "      <th>MonthlyRate</th>\n",
       "      <td>1470.0</td>\n",
       "      <td>14313.103401</td>\n",
       "      <td>7117.786044</td>\n",
       "      <td>2094.0</td>\n",
       "      <td>8047.0</td>\n",
       "      <td>14235.5</td>\n",
       "      <td>20461.50</td>\n",
       "      <td>26999.0</td>\n",
       "    </tr>\n",
       "    <tr>\n",
       "      <th>NumCompaniesWorked</th>\n",
       "      <td>1470.0</td>\n",
       "      <td>2.693197</td>\n",
       "      <td>2.498009</td>\n",
       "      <td>0.0</td>\n",
       "      <td>1.0</td>\n",
       "      <td>2.0</td>\n",
       "      <td>4.00</td>\n",
       "      <td>9.0</td>\n",
       "    </tr>\n",
       "    <tr>\n",
       "      <th>PercentSalaryHike</th>\n",
       "      <td>1470.0</td>\n",
       "      <td>15.209524</td>\n",
       "      <td>3.659938</td>\n",
       "      <td>11.0</td>\n",
       "      <td>12.0</td>\n",
       "      <td>14.0</td>\n",
       "      <td>18.00</td>\n",
       "      <td>25.0</td>\n",
       "    </tr>\n",
       "    <tr>\n",
       "      <th>PerformanceRating</th>\n",
       "      <td>1470.0</td>\n",
       "      <td>3.153741</td>\n",
       "      <td>0.360824</td>\n",
       "      <td>3.0</td>\n",
       "      <td>3.0</td>\n",
       "      <td>3.0</td>\n",
       "      <td>3.00</td>\n",
       "      <td>4.0</td>\n",
       "    </tr>\n",
       "    <tr>\n",
       "      <th>RelationshipSatisfaction</th>\n",
       "      <td>1470.0</td>\n",
       "      <td>2.712245</td>\n",
       "      <td>1.081209</td>\n",
       "      <td>1.0</td>\n",
       "      <td>2.0</td>\n",
       "      <td>3.0</td>\n",
       "      <td>4.00</td>\n",
       "      <td>4.0</td>\n",
       "    </tr>\n",
       "    <tr>\n",
       "      <th>StockOptionLevel</th>\n",
       "      <td>1470.0</td>\n",
       "      <td>0.793878</td>\n",
       "      <td>0.852077</td>\n",
       "      <td>0.0</td>\n",
       "      <td>0.0</td>\n",
       "      <td>1.0</td>\n",
       "      <td>1.00</td>\n",
       "      <td>3.0</td>\n",
       "    </tr>\n",
       "    <tr>\n",
       "      <th>TotalWorkingYears</th>\n",
       "      <td>1470.0</td>\n",
       "      <td>11.279592</td>\n",
       "      <td>7.780782</td>\n",
       "      <td>0.0</td>\n",
       "      <td>6.0</td>\n",
       "      <td>10.0</td>\n",
       "      <td>15.00</td>\n",
       "      <td>40.0</td>\n",
       "    </tr>\n",
       "    <tr>\n",
       "      <th>TrainingTimesLastYear</th>\n",
       "      <td>1470.0</td>\n",
       "      <td>2.799320</td>\n",
       "      <td>1.289271</td>\n",
       "      <td>0.0</td>\n",
       "      <td>2.0</td>\n",
       "      <td>3.0</td>\n",
       "      <td>3.00</td>\n",
       "      <td>6.0</td>\n",
       "    </tr>\n",
       "    <tr>\n",
       "      <th>WorkLifeBalance</th>\n",
       "      <td>1470.0</td>\n",
       "      <td>2.761224</td>\n",
       "      <td>0.706476</td>\n",
       "      <td>1.0</td>\n",
       "      <td>2.0</td>\n",
       "      <td>3.0</td>\n",
       "      <td>3.00</td>\n",
       "      <td>4.0</td>\n",
       "    </tr>\n",
       "    <tr>\n",
       "      <th>YearsAtCompany</th>\n",
       "      <td>1470.0</td>\n",
       "      <td>7.008163</td>\n",
       "      <td>6.126525</td>\n",
       "      <td>0.0</td>\n",
       "      <td>3.0</td>\n",
       "      <td>5.0</td>\n",
       "      <td>9.00</td>\n",
       "      <td>40.0</td>\n",
       "    </tr>\n",
       "    <tr>\n",
       "      <th>YearsInCurrentRole</th>\n",
       "      <td>1470.0</td>\n",
       "      <td>4.229252</td>\n",
       "      <td>3.623137</td>\n",
       "      <td>0.0</td>\n",
       "      <td>2.0</td>\n",
       "      <td>3.0</td>\n",
       "      <td>7.00</td>\n",
       "      <td>18.0</td>\n",
       "    </tr>\n",
       "    <tr>\n",
       "      <th>YearsSinceLastPromotion</th>\n",
       "      <td>1470.0</td>\n",
       "      <td>2.187755</td>\n",
       "      <td>3.222430</td>\n",
       "      <td>0.0</td>\n",
       "      <td>0.0</td>\n",
       "      <td>1.0</td>\n",
       "      <td>3.00</td>\n",
       "      <td>15.0</td>\n",
       "    </tr>\n",
       "    <tr>\n",
       "      <th>YearsWithCurrManager</th>\n",
       "      <td>1470.0</td>\n",
       "      <td>4.123129</td>\n",
       "      <td>3.568136</td>\n",
       "      <td>0.0</td>\n",
       "      <td>2.0</td>\n",
       "      <td>3.0</td>\n",
       "      <td>7.00</td>\n",
       "      <td>17.0</td>\n",
       "    </tr>\n",
       "    <tr>\n",
       "      <th>Attrition_numeric</th>\n",
       "      <td>1470.0</td>\n",
       "      <td>0.161224</td>\n",
       "      <td>0.367863</td>\n",
       "      <td>0.0</td>\n",
       "      <td>0.0</td>\n",
       "      <td>0.0</td>\n",
       "      <td>0.00</td>\n",
       "      <td>1.0</td>\n",
       "    </tr>\n",
       "  </tbody>\n",
       "</table>\n",
       "</div>"
      ],
      "text/plain": [
       "                           count          mean          std     min     25%  \\\n",
       "Age                       1470.0     36.923810     9.135373    18.0    30.0   \n",
       "DailyRate                 1470.0    802.485714   403.509100   102.0   465.0   \n",
       "DistanceFromHome          1470.0      9.192517     8.106864     1.0     2.0   \n",
       "Education                 1470.0      2.912925     1.024165     1.0     2.0   \n",
       "EnvironmentSatisfaction   1470.0      2.721769     1.093082     1.0     2.0   \n",
       "HourlyRate                1470.0     65.891156    20.329428    30.0    48.0   \n",
       "JobInvolvement            1470.0      2.729932     0.711561     1.0     2.0   \n",
       "JobLevel                  1470.0      2.063946     1.106940     1.0     1.0   \n",
       "JobSatisfaction           1470.0      2.728571     1.102846     1.0     2.0   \n",
       "MonthlyIncome             1470.0   6502.931293  4707.956783  1009.0  2911.0   \n",
       "MonthlyRate               1470.0  14313.103401  7117.786044  2094.0  8047.0   \n",
       "NumCompaniesWorked        1470.0      2.693197     2.498009     0.0     1.0   \n",
       "PercentSalaryHike         1470.0     15.209524     3.659938    11.0    12.0   \n",
       "PerformanceRating         1470.0      3.153741     0.360824     3.0     3.0   \n",
       "RelationshipSatisfaction  1470.0      2.712245     1.081209     1.0     2.0   \n",
       "StockOptionLevel          1470.0      0.793878     0.852077     0.0     0.0   \n",
       "TotalWorkingYears         1470.0     11.279592     7.780782     0.0     6.0   \n",
       "TrainingTimesLastYear     1470.0      2.799320     1.289271     0.0     2.0   \n",
       "WorkLifeBalance           1470.0      2.761224     0.706476     1.0     2.0   \n",
       "YearsAtCompany            1470.0      7.008163     6.126525     0.0     3.0   \n",
       "YearsInCurrentRole        1470.0      4.229252     3.623137     0.0     2.0   \n",
       "YearsSinceLastPromotion   1470.0      2.187755     3.222430     0.0     0.0   \n",
       "YearsWithCurrManager      1470.0      4.123129     3.568136     0.0     2.0   \n",
       "Attrition_numeric         1470.0      0.161224     0.367863     0.0     0.0   \n",
       "\n",
       "                              50%       75%      max  \n",
       "Age                          36.0     43.00     60.0  \n",
       "DailyRate                   802.0   1157.00   1499.0  \n",
       "DistanceFromHome              7.0     14.00     29.0  \n",
       "Education                     3.0      4.00      5.0  \n",
       "EnvironmentSatisfaction       3.0      4.00      4.0  \n",
       "HourlyRate                   66.0     83.75    100.0  \n",
       "JobInvolvement                3.0      3.00      4.0  \n",
       "JobLevel                      2.0      3.00      5.0  \n",
       "JobSatisfaction               3.0      4.00      4.0  \n",
       "MonthlyIncome              4919.0   8379.00  19999.0  \n",
       "MonthlyRate               14235.5  20461.50  26999.0  \n",
       "NumCompaniesWorked            2.0      4.00      9.0  \n",
       "PercentSalaryHike            14.0     18.00     25.0  \n",
       "PerformanceRating             3.0      3.00      4.0  \n",
       "RelationshipSatisfaction      3.0      4.00      4.0  \n",
       "StockOptionLevel              1.0      1.00      3.0  \n",
       "TotalWorkingYears            10.0     15.00     40.0  \n",
       "TrainingTimesLastYear         3.0      3.00      6.0  \n",
       "WorkLifeBalance               3.0      3.00      4.0  \n",
       "YearsAtCompany                5.0      9.00     40.0  \n",
       "YearsInCurrentRole            3.0      7.00     18.0  \n",
       "YearsSinceLastPromotion       1.0      3.00     15.0  \n",
       "YearsWithCurrManager          3.0      7.00     17.0  \n",
       "Attrition_numeric             0.0      0.00      1.0  "
      ]
     },
     "execution_count": 13,
     "metadata": {},
     "output_type": "execute_result"
    }
   ],
   "source": [
    "df.describe().T"
   ]
  },
  {
   "cell_type": "markdown",
   "metadata": {
    "id": "0651vDzIvJPL"
   },
   "source": [
    "**The conclusion from above description is :**\n",
    "\n",
    "**The average age is 36 years, there are very young people with 18 years and people with 60 years.**\n",
    "\n",
    "**There are people who live very close to work, almost next door, and others are almost an hour's drive away!**\n",
    "\n",
    "**Salaries are a world of their own! The average is 6500 usd, the lowest earners reach 1000 usd and the highest earners almost 20000 usd.**\n",
    "\n",
    "**There are employees who have been working for almost 40 years and others who have just started! The average, however, is 7 years.**"
   ]
  },
  {
   "cell_type": "markdown",
   "metadata": {
    "id": "khzYNDVMv4j7"
   },
   "source": [
    "**Now We are going to separate the workers into two dataframes according to Attrition and compare their averages.**"
   ]
  },
  {
   "cell_type": "code",
   "execution_count": 14,
   "metadata": {
    "id": "Un7bcdQKuL61"
   },
   "outputs": [],
   "source": [
    "attrition_yes = df.loc[df[\"Attrition_numeric\"] == 1]\n",
    "attrition_no = df.loc[df[\"Attrition_numeric\"] == 0]"
   ]
  },
  {
   "cell_type": "code",
   "execution_count": 15,
   "metadata": {
    "colab": {
     "base_uri": "https://localhost:8080/",
     "height": 802
    },
    "id": "G72qvSsWwHnn",
    "outputId": "fbdd7443-4614-4d77-c79e-1199f1187378"
   },
   "outputs": [
    {
     "data": {
      "text/html": [
       "<style type=\"text/css\">\n",
       "#T_8de3b_row0_col0, #T_8de3b_row1_col0, #T_8de3b_row2_col1, #T_8de3b_row3_col0, #T_8de3b_row4_col0, #T_8de3b_row5_col0, #T_8de3b_row6_col0, #T_8de3b_row7_col0, #T_8de3b_row8_col0, #T_8de3b_row9_col0, #T_8de3b_row10_col1, #T_8de3b_row11_col1, #T_8de3b_row12_col0, #T_8de3b_row13_col1, #T_8de3b_row14_col0, #T_8de3b_row15_col0, #T_8de3b_row16_col0, #T_8de3b_row17_col0, #T_8de3b_row18_col0, #T_8de3b_row19_col0, #T_8de3b_row20_col0, #T_8de3b_row21_col0, #T_8de3b_row22_col0, #T_8de3b_row23_col1 {\n",
       "  background-color: #9edae5;\n",
       "  color: #000000;\n",
       "}\n",
       "#T_8de3b_row0_col1, #T_8de3b_row1_col1, #T_8de3b_row2_col0, #T_8de3b_row3_col1, #T_8de3b_row4_col1, #T_8de3b_row5_col1, #T_8de3b_row6_col1, #T_8de3b_row7_col1, #T_8de3b_row8_col1, #T_8de3b_row9_col1, #T_8de3b_row10_col0, #T_8de3b_row11_col0, #T_8de3b_row12_col1, #T_8de3b_row13_col0, #T_8de3b_row14_col1, #T_8de3b_row15_col1, #T_8de3b_row16_col1, #T_8de3b_row17_col1, #T_8de3b_row18_col1, #T_8de3b_row19_col1, #T_8de3b_row20_col1, #T_8de3b_row21_col1, #T_8de3b_row22_col1, #T_8de3b_row23_col0 {\n",
       "  background-color: #1f77b4;\n",
       "  color: #f1f1f1;\n",
       "}\n",
       "</style>\n",
       "<table id=\"T_8de3b\">\n",
       "  <thead>\n",
       "    <tr>\n",
       "      <th class=\"blank level0\" >&nbsp;</th>\n",
       "      <th id=\"T_8de3b_level0_col0\" class=\"col_heading level0 col0\" >Yes</th>\n",
       "      <th id=\"T_8de3b_level0_col1\" class=\"col_heading level0 col1\" >No</th>\n",
       "    </tr>\n",
       "  </thead>\n",
       "  <tbody>\n",
       "    <tr>\n",
       "      <th id=\"T_8de3b_level0_row0\" class=\"row_heading level0 row0\" >Age</th>\n",
       "      <td id=\"T_8de3b_row0_col0\" class=\"data row0 col0\" >33.610000</td>\n",
       "      <td id=\"T_8de3b_row0_col1\" class=\"data row0 col1\" >37.560000</td>\n",
       "    </tr>\n",
       "    <tr>\n",
       "      <th id=\"T_8de3b_level0_row1\" class=\"row_heading level0 row1\" >DailyRate</th>\n",
       "      <td id=\"T_8de3b_row1_col0\" class=\"data row1 col0\" >750.360000</td>\n",
       "      <td id=\"T_8de3b_row1_col1\" class=\"data row1 col1\" >812.500000</td>\n",
       "    </tr>\n",
       "    <tr>\n",
       "      <th id=\"T_8de3b_level0_row2\" class=\"row_heading level0 row2\" >DistanceFromHome</th>\n",
       "      <td id=\"T_8de3b_row2_col0\" class=\"data row2 col0\" >10.630000</td>\n",
       "      <td id=\"T_8de3b_row2_col1\" class=\"data row2 col1\" >8.920000</td>\n",
       "    </tr>\n",
       "    <tr>\n",
       "      <th id=\"T_8de3b_level0_row3\" class=\"row_heading level0 row3\" >Education</th>\n",
       "      <td id=\"T_8de3b_row3_col0\" class=\"data row3 col0\" >2.840000</td>\n",
       "      <td id=\"T_8de3b_row3_col1\" class=\"data row3 col1\" >2.930000</td>\n",
       "    </tr>\n",
       "    <tr>\n",
       "      <th id=\"T_8de3b_level0_row4\" class=\"row_heading level0 row4\" >EnvironmentSatisfaction</th>\n",
       "      <td id=\"T_8de3b_row4_col0\" class=\"data row4 col0\" >2.460000</td>\n",
       "      <td id=\"T_8de3b_row4_col1\" class=\"data row4 col1\" >2.770000</td>\n",
       "    </tr>\n",
       "    <tr>\n",
       "      <th id=\"T_8de3b_level0_row5\" class=\"row_heading level0 row5\" >HourlyRate</th>\n",
       "      <td id=\"T_8de3b_row5_col0\" class=\"data row5 col0\" >65.570000</td>\n",
       "      <td id=\"T_8de3b_row5_col1\" class=\"data row5 col1\" >65.950000</td>\n",
       "    </tr>\n",
       "    <tr>\n",
       "      <th id=\"T_8de3b_level0_row6\" class=\"row_heading level0 row6\" >JobInvolvement</th>\n",
       "      <td id=\"T_8de3b_row6_col0\" class=\"data row6 col0\" >2.520000</td>\n",
       "      <td id=\"T_8de3b_row6_col1\" class=\"data row6 col1\" >2.770000</td>\n",
       "    </tr>\n",
       "    <tr>\n",
       "      <th id=\"T_8de3b_level0_row7\" class=\"row_heading level0 row7\" >JobLevel</th>\n",
       "      <td id=\"T_8de3b_row7_col0\" class=\"data row7 col0\" >1.640000</td>\n",
       "      <td id=\"T_8de3b_row7_col1\" class=\"data row7 col1\" >2.150000</td>\n",
       "    </tr>\n",
       "    <tr>\n",
       "      <th id=\"T_8de3b_level0_row8\" class=\"row_heading level0 row8\" >JobSatisfaction</th>\n",
       "      <td id=\"T_8de3b_row8_col0\" class=\"data row8 col0\" >2.470000</td>\n",
       "      <td id=\"T_8de3b_row8_col1\" class=\"data row8 col1\" >2.780000</td>\n",
       "    </tr>\n",
       "    <tr>\n",
       "      <th id=\"T_8de3b_level0_row9\" class=\"row_heading level0 row9\" >MonthlyIncome</th>\n",
       "      <td id=\"T_8de3b_row9_col0\" class=\"data row9 col0\" >4787.090000</td>\n",
       "      <td id=\"T_8de3b_row9_col1\" class=\"data row9 col1\" >6832.740000</td>\n",
       "    </tr>\n",
       "    <tr>\n",
       "      <th id=\"T_8de3b_level0_row10\" class=\"row_heading level0 row10\" >MonthlyRate</th>\n",
       "      <td id=\"T_8de3b_row10_col0\" class=\"data row10 col0\" >14559.310000</td>\n",
       "      <td id=\"T_8de3b_row10_col1\" class=\"data row10 col1\" >14265.780000</td>\n",
       "    </tr>\n",
       "    <tr>\n",
       "      <th id=\"T_8de3b_level0_row11\" class=\"row_heading level0 row11\" >NumCompaniesWorked</th>\n",
       "      <td id=\"T_8de3b_row11_col0\" class=\"data row11 col0\" >2.940000</td>\n",
       "      <td id=\"T_8de3b_row11_col1\" class=\"data row11 col1\" >2.650000</td>\n",
       "    </tr>\n",
       "    <tr>\n",
       "      <th id=\"T_8de3b_level0_row12\" class=\"row_heading level0 row12\" >PercentSalaryHike</th>\n",
       "      <td id=\"T_8de3b_row12_col0\" class=\"data row12 col0\" >15.100000</td>\n",
       "      <td id=\"T_8de3b_row12_col1\" class=\"data row12 col1\" >15.230000</td>\n",
       "    </tr>\n",
       "    <tr>\n",
       "      <th id=\"T_8de3b_level0_row13\" class=\"row_heading level0 row13\" >PerformanceRating</th>\n",
       "      <td id=\"T_8de3b_row13_col0\" class=\"data row13 col0\" >3.160000</td>\n",
       "      <td id=\"T_8de3b_row13_col1\" class=\"data row13 col1\" >3.150000</td>\n",
       "    </tr>\n",
       "    <tr>\n",
       "      <th id=\"T_8de3b_level0_row14\" class=\"row_heading level0 row14\" >RelationshipSatisfaction</th>\n",
       "      <td id=\"T_8de3b_row14_col0\" class=\"data row14 col0\" >2.600000</td>\n",
       "      <td id=\"T_8de3b_row14_col1\" class=\"data row14 col1\" >2.730000</td>\n",
       "    </tr>\n",
       "    <tr>\n",
       "      <th id=\"T_8de3b_level0_row15\" class=\"row_heading level0 row15\" >StockOptionLevel</th>\n",
       "      <td id=\"T_8de3b_row15_col0\" class=\"data row15 col0\" >0.530000</td>\n",
       "      <td id=\"T_8de3b_row15_col1\" class=\"data row15 col1\" >0.850000</td>\n",
       "    </tr>\n",
       "    <tr>\n",
       "      <th id=\"T_8de3b_level0_row16\" class=\"row_heading level0 row16\" >TotalWorkingYears</th>\n",
       "      <td id=\"T_8de3b_row16_col0\" class=\"data row16 col0\" >8.240000</td>\n",
       "      <td id=\"T_8de3b_row16_col1\" class=\"data row16 col1\" >11.860000</td>\n",
       "    </tr>\n",
       "    <tr>\n",
       "      <th id=\"T_8de3b_level0_row17\" class=\"row_heading level0 row17\" >TrainingTimesLastYear</th>\n",
       "      <td id=\"T_8de3b_row17_col0\" class=\"data row17 col0\" >2.620000</td>\n",
       "      <td id=\"T_8de3b_row17_col1\" class=\"data row17 col1\" >2.830000</td>\n",
       "    </tr>\n",
       "    <tr>\n",
       "      <th id=\"T_8de3b_level0_row18\" class=\"row_heading level0 row18\" >WorkLifeBalance</th>\n",
       "      <td id=\"T_8de3b_row18_col0\" class=\"data row18 col0\" >2.660000</td>\n",
       "      <td id=\"T_8de3b_row18_col1\" class=\"data row18 col1\" >2.780000</td>\n",
       "    </tr>\n",
       "    <tr>\n",
       "      <th id=\"T_8de3b_level0_row19\" class=\"row_heading level0 row19\" >YearsAtCompany</th>\n",
       "      <td id=\"T_8de3b_row19_col0\" class=\"data row19 col0\" >5.130000</td>\n",
       "      <td id=\"T_8de3b_row19_col1\" class=\"data row19 col1\" >7.370000</td>\n",
       "    </tr>\n",
       "    <tr>\n",
       "      <th id=\"T_8de3b_level0_row20\" class=\"row_heading level0 row20\" >YearsInCurrentRole</th>\n",
       "      <td id=\"T_8de3b_row20_col0\" class=\"data row20 col0\" >2.900000</td>\n",
       "      <td id=\"T_8de3b_row20_col1\" class=\"data row20 col1\" >4.480000</td>\n",
       "    </tr>\n",
       "    <tr>\n",
       "      <th id=\"T_8de3b_level0_row21\" class=\"row_heading level0 row21\" >YearsSinceLastPromotion</th>\n",
       "      <td id=\"T_8de3b_row21_col0\" class=\"data row21 col0\" >1.950000</td>\n",
       "      <td id=\"T_8de3b_row21_col1\" class=\"data row21 col1\" >2.230000</td>\n",
       "    </tr>\n",
       "    <tr>\n",
       "      <th id=\"T_8de3b_level0_row22\" class=\"row_heading level0 row22\" >YearsWithCurrManager</th>\n",
       "      <td id=\"T_8de3b_row22_col0\" class=\"data row22 col0\" >2.850000</td>\n",
       "      <td id=\"T_8de3b_row22_col1\" class=\"data row22 col1\" >4.370000</td>\n",
       "    </tr>\n",
       "    <tr>\n",
       "      <th id=\"T_8de3b_level0_row23\" class=\"row_heading level0 row23\" >Attrition_numeric</th>\n",
       "      <td id=\"T_8de3b_row23_col0\" class=\"data row23 col0\" >1.000000</td>\n",
       "      <td id=\"T_8de3b_row23_col1\" class=\"data row23 col1\" >0.000000</td>\n",
       "    </tr>\n",
       "  </tbody>\n",
       "</table>\n"
      ],
      "text/plain": [
       "<pandas.io.formats.style.Styler at 0x23986dbfa10>"
      ]
     },
     "execution_count": 15,
     "metadata": {},
     "output_type": "execute_result"
    }
   ],
   "source": [
    "# I use concat to join the two DF, rename the columns and then give it some color :)\n",
    "df_mean_attrition = pd.concat((attrition_yes.mean(),attrition_no.mean()),axis=1)\n",
    "df_mean_attrition.columns = [\"Yes\",\"No\"]\n",
    "df_mean_attrition.round(2).style.background_gradient(cmap=\"tab20_r\",axis=1)"
   ]
  },
  {
   "cell_type": "markdown",
   "metadata": {
    "id": "QgCc7EIzwi9x"
   },
   "source": [
    "**Characteristics of employees who want to leave the IBM company**\n",
    "\n",
    "**They tend to be younger, 33 years old on average, they tend to live farther from work, they are less satisfied with the work environment, they have lower incomes.**\n",
    "\n",
    "**They have been working less years, they have less rights to stock options.**"
   ]
  },
  {
   "cell_type": "markdown",
   "metadata": {
    "id": "ASQmrhq4yqLO"
   },
   "source": [
    "# Now let's find what is the good employee attrition rate?"
   ]
  },
  {
   "cell_type": "code",
   "execution_count": 16,
   "metadata": {
    "colab": {
     "base_uri": "https://localhost:8080/"
    },
    "id": "0P6ZlVV5wNZ2",
    "outputId": "93a3c3d8-d414-40f6-d4b5-3cebb7bb49f2"
   },
   "outputs": [
    {
     "name": "stdout",
     "output_type": "stream",
     "text": [
      "Average Turnover rate at IBM is : 16.12\n"
     ]
    }
   ],
   "source": [
    "tasa_att = (df[\"Attrition_numeric\"].sum() / df.shape[0]) * 100\n",
    "print(\"Average Turnover rate at IBM is :\",round(tasa_att,2))"
   ]
  },
  {
   "cell_type": "code",
   "execution_count": 17,
   "metadata": {
    "colab": {
     "base_uri": "https://localhost:8080/",
     "height": 354
    },
    "id": "mKK6kq1wy6MS",
    "outputId": "6fd6fca2-b0f8-43e6-f6c3-beea4e392d02"
   },
   "outputs": [
    {
     "data": {
      "image/png": "[encoded data removed]",
      "text/plain": [
       "<Figure size 600x300 with 1 Axes>"
      ]
     },
     "metadata": {},
     "output_type": "display_data"
    }
   ],
   "source": [
    "# let,s plot \"Attrition frecuency\"\n",
    "colors = [\"#C0EDD2\",\"#FF0018\"]\n",
    "df_class = df[\"Attrition_numeric\"].value_counts().reset_index()\n",
    "plt.figure(figsize=(6,3))\n",
    "ax = sns.barplot(x=\"index\",y=\"Attrition_numeric\",data=df_class,palette=colors)\n",
    "sns.despine()\n",
    "# another way to make titles more personalized\n",
    "# plt.title(\"$\\\\bf{Attrition frecuency}$\" +\"\\nIsn't this an example of unbalanced classes?\")\n",
    "ax.text(-0.5,1450,\"Attrition frecuency\",\n",
    "        fontsize=15,\n",
    "         fontweight='bold')\n",
    "ax.text(-0.5,1350,\"Isn't this an example of unbalanced classes?\",\n",
    "        fontsize=11)\n",
    "# with a loop I add the values to the graphic text(x,y,s=\"values\")\n",
    "for num,text in enumerate(df_class[\"Attrition_numeric\"]):\n",
    "        ax.text(num,text-100,text)\n",
    "plt.xlabel(\"Attrition\")\n",
    "plt.ylabel(\"Frecuency\")\n",
    "plt.show()"
   ]
  },
  {
   "cell_type": "markdown",
   "metadata": {
    "id": "KG378hRoza4j"
   },
   "source": [
    "**As we can see above we are having imbalanced data in target column.**"
   ]
  },
  {
   "cell_type": "markdown",
   "metadata": {
    "id": "9LMOqytIz2Ei"
   },
   "source": [
    "**I am going to separate the numerical columns from the categorical columns; using describe makes it very easy**"
   ]
  },
  {
   "cell_type": "code",
   "execution_count": 18,
   "metadata": {
    "id": "MRM9wqpCzJMr"
   },
   "outputs": [],
   "source": [
    "num_col = df.describe().columns.tolist()\n",
    "cat_col = df.describe(include=\"object\").columns.tolist()"
   ]
  },
  {
   "cell_type": "markdown",
   "metadata": {
    "id": "bcy6kI880Akp"
   },
   "source": [
    "# Detecting Multicollinearity"
   ]
  },
  {
   "cell_type": "code",
   "execution_count": 19,
   "metadata": {
    "id": "HkRIDORtz_ov"
   },
   "outputs": [],
   "source": [
    "corr = df[num_col].corr()"
   ]
  },
  {
   "cell_type": "code",
   "execution_count": 20,
   "metadata": {
    "colab": {
     "base_uri": "https://localhost:8080/",
     "height": 420
    },
    "id": "Jz9yij5A0MJt",
    "outputId": "f733b9f0-aa6d-4218-b8ff-95be20a97ee8"
   },
   "outputs": [
    {
     "data": {
      "image/png": "[encoded data removed]",
      "text/plain": [
       "<Figure size 640x480 with 2 Axes>"
      ]
     },
     "metadata": {},
     "output_type": "display_data"
    }
   ],
   "source": [
    "x = sns.heatmap(\n",
    "    corr,\n",
    "    vmin=-1, vmax=1, center=0,\n",
    "    cmap=\"Blues\",\n",
    "    square=True,xticklabels=False, yticklabels=False)\n",
    "\n",
    "plt.show(block=False)"
   ]
  },
  {
   "cell_type": "markdown",
   "metadata": {
    "id": "Q3Ed1lFl0s_O"
   },
   "source": [
    "**we see that there is Multicollinearity; it is normal because there are variables that are related to each other, for example salary and working years. Further on we will see which are the most important variables**"
   ]
  },
  {
   "cell_type": "code",
   "execution_count": 21,
   "metadata": {
    "colab": {
     "base_uri": "https://localhost:8080/",
     "height": 802
    },
    "id": "lBBLElNa0SUb",
    "outputId": "638c6510-4210-432a-a88f-066578b3f9f5"
   },
   "outputs": [
    {
     "data": {
      "text/html": [
       "<style type=\"text/css\">\n",
       "#T_219b2_row0_col0, #T_219b2_row9_col0, #T_219b2_row20_col0 {\n",
       "  background-color: #f5fafe;\n",
       "  color: #000000;\n",
       "}\n",
       "#T_219b2_row1_col0 {\n",
       "  background-color: #e3eef9;\n",
       "  color: #000000;\n",
       "}\n",
       "#T_219b2_row2_col0 {\n",
       "  background-color: #cde0f1;\n",
       "  color: #000000;\n",
       "}\n",
       "#T_219b2_row3_col0, #T_219b2_row21_col0 {\n",
       "  background-color: #dfecf7;\n",
       "  color: #000000;\n",
       "}\n",
       "#T_219b2_row4_col0, #T_219b2_row8_col0 {\n",
       "  background-color: #ecf4fb;\n",
       "  color: #000000;\n",
       "}\n",
       "#T_219b2_row5_col0 {\n",
       "  background-color: #dce9f6;\n",
       "  color: #000000;\n",
       "}\n",
       "#T_219b2_row6_col0, #T_219b2_row19_col0 {\n",
       "  background-color: #f1f7fd;\n",
       "  color: #000000;\n",
       "}\n",
       "#T_219b2_row7_col0, #T_219b2_row16_col0 {\n",
       "  background-color: #f7fbff;\n",
       "  color: #000000;\n",
       "}\n",
       "#T_219b2_row10_col0 {\n",
       "  background-color: #d8e7f5;\n",
       "  color: #000000;\n",
       "}\n",
       "#T_219b2_row11_col0 {\n",
       "  background-color: #d3e4f3;\n",
       "  color: #000000;\n",
       "}\n",
       "#T_219b2_row12_col0 {\n",
       "  background-color: #dceaf6;\n",
       "  color: #000000;\n",
       "}\n",
       "#T_219b2_row13_col0 {\n",
       "  background-color: #d9e8f5;\n",
       "  color: #000000;\n",
       "}\n",
       "#T_219b2_row14_col0 {\n",
       "  background-color: #e2edf8;\n",
       "  color: #000000;\n",
       "}\n",
       "#T_219b2_row15_col0 {\n",
       "  background-color: #f2f7fd;\n",
       "  color: #000000;\n",
       "}\n",
       "#T_219b2_row17_col0 {\n",
       "  background-color: #e4eff9;\n",
       "  color: #000000;\n",
       "}\n",
       "#T_219b2_row18_col0 {\n",
       "  background-color: #e5eff9;\n",
       "  color: #000000;\n",
       "}\n",
       "#T_219b2_row22_col0 {\n",
       "  background-color: #f5f9fe;\n",
       "  color: #000000;\n",
       "}\n",
       "#T_219b2_row23_col0 {\n",
       "  background-color: #08306b;\n",
       "  color: #f1f1f1;\n",
       "}\n",
       "</style>\n",
       "<table id=\"T_219b2\">\n",
       "  <thead>\n",
       "    <tr>\n",
       "      <th class=\"blank level0\" >&nbsp;</th>\n",
       "      <th id=\"T_219b2_level0_col0\" class=\"col_heading level0 col0\" >Attrition_numeric</th>\n",
       "    </tr>\n",
       "  </thead>\n",
       "  <tbody>\n",
       "    <tr>\n",
       "      <th id=\"T_219b2_level0_row0\" class=\"row_heading level0 row0\" >Age</th>\n",
       "      <td id=\"T_219b2_row0_col0\" class=\"data row0 col0\" >-0.159205</td>\n",
       "    </tr>\n",
       "    <tr>\n",
       "      <th id=\"T_219b2_level0_row1\" class=\"row_heading level0 row1\" >DailyRate</th>\n",
       "      <td id=\"T_219b2_row1_col0\" class=\"data row1 col0\" >-0.056652</td>\n",
       "    </tr>\n",
       "    <tr>\n",
       "      <th id=\"T_219b2_level0_row2\" class=\"row_heading level0 row2\" >DistanceFromHome</th>\n",
       "      <td id=\"T_219b2_row2_col0\" class=\"data row2 col0\" >0.077924</td>\n",
       "    </tr>\n",
       "    <tr>\n",
       "      <th id=\"T_219b2_level0_row3\" class=\"row_heading level0 row3\" >Education</th>\n",
       "      <td id=\"T_219b2_row3_col0\" class=\"data row3 col0\" >-0.031373</td>\n",
       "    </tr>\n",
       "    <tr>\n",
       "      <th id=\"T_219b2_level0_row4\" class=\"row_heading level0 row4\" >EnvironmentSatisfaction</th>\n",
       "      <td id=\"T_219b2_row4_col0\" class=\"data row4 col0\" >-0.103369</td>\n",
       "    </tr>\n",
       "    <tr>\n",
       "      <th id=\"T_219b2_level0_row5\" class=\"row_heading level0 row5\" >HourlyRate</th>\n",
       "      <td id=\"T_219b2_row5_col0\" class=\"data row5 col0\" >-0.006846</td>\n",
       "    </tr>\n",
       "    <tr>\n",
       "      <th id=\"T_219b2_level0_row6\" class=\"row_heading level0 row6\" >JobInvolvement</th>\n",
       "      <td id=\"T_219b2_row6_col0\" class=\"data row6 col0\" >-0.130016</td>\n",
       "    </tr>\n",
       "    <tr>\n",
       "      <th id=\"T_219b2_level0_row7\" class=\"row_heading level0 row7\" >JobLevel</th>\n",
       "      <td id=\"T_219b2_row7_col0\" class=\"data row7 col0\" >-0.169105</td>\n",
       "    </tr>\n",
       "    <tr>\n",
       "      <th id=\"T_219b2_level0_row8\" class=\"row_heading level0 row8\" >JobSatisfaction</th>\n",
       "      <td id=\"T_219b2_row8_col0\" class=\"data row8 col0\" >-0.103481</td>\n",
       "    </tr>\n",
       "    <tr>\n",
       "      <th id=\"T_219b2_level0_row9\" class=\"row_heading level0 row9\" >MonthlyIncome</th>\n",
       "      <td id=\"T_219b2_row9_col0\" class=\"data row9 col0\" >-0.159840</td>\n",
       "    </tr>\n",
       "    <tr>\n",
       "      <th id=\"T_219b2_level0_row10\" class=\"row_heading level0 row10\" >MonthlyRate</th>\n",
       "      <td id=\"T_219b2_row10_col0\" class=\"data row10 col0\" >0.015170</td>\n",
       "    </tr>\n",
       "    <tr>\n",
       "      <th id=\"T_219b2_level0_row11\" class=\"row_heading level0 row11\" >NumCompaniesWorked</th>\n",
       "      <td id=\"T_219b2_row11_col0\" class=\"data row11 col0\" >0.043494</td>\n",
       "    </tr>\n",
       "    <tr>\n",
       "      <th id=\"T_219b2_level0_row12\" class=\"row_heading level0 row12\" >PercentSalaryHike</th>\n",
       "      <td id=\"T_219b2_row12_col0\" class=\"data row12 col0\" >-0.013478</td>\n",
       "    </tr>\n",
       "    <tr>\n",
       "      <th id=\"T_219b2_level0_row13\" class=\"row_heading level0 row13\" >PerformanceRating</th>\n",
       "      <td id=\"T_219b2_row13_col0\" class=\"data row13 col0\" >0.002889</td>\n",
       "    </tr>\n",
       "    <tr>\n",
       "      <th id=\"T_219b2_level0_row14\" class=\"row_heading level0 row14\" >RelationshipSatisfaction</th>\n",
       "      <td id=\"T_219b2_row14_col0\" class=\"data row14 col0\" >-0.045872</td>\n",
       "    </tr>\n",
       "    <tr>\n",
       "      <th id=\"T_219b2_level0_row15\" class=\"row_heading level0 row15\" >StockOptionLevel</th>\n",
       "      <td id=\"T_219b2_row15_col0\" class=\"data row15 col0\" >-0.137145</td>\n",
       "    </tr>\n",
       "    <tr>\n",
       "      <th id=\"T_219b2_level0_row16\" class=\"row_heading level0 row16\" >TotalWorkingYears</th>\n",
       "      <td id=\"T_219b2_row16_col0\" class=\"data row16 col0\" >-0.171063</td>\n",
       "    </tr>\n",
       "    <tr>\n",
       "      <th id=\"T_219b2_level0_row17\" class=\"row_heading level0 row17\" >TrainingTimesLastYear</th>\n",
       "      <td id=\"T_219b2_row17_col0\" class=\"data row17 col0\" >-0.059478</td>\n",
       "    </tr>\n",
       "    <tr>\n",
       "      <th id=\"T_219b2_level0_row18\" class=\"row_heading level0 row18\" >WorkLifeBalance</th>\n",
       "      <td id=\"T_219b2_row18_col0\" class=\"data row18 col0\" >-0.063939</td>\n",
       "    </tr>\n",
       "    <tr>\n",
       "      <th id=\"T_219b2_level0_row19\" class=\"row_heading level0 row19\" >YearsAtCompany</th>\n",
       "      <td id=\"T_219b2_row19_col0\" class=\"data row19 col0\" >-0.134392</td>\n",
       "    </tr>\n",
       "    <tr>\n",
       "      <th id=\"T_219b2_level0_row20\" class=\"row_heading level0 row20\" >YearsInCurrentRole</th>\n",
       "      <td id=\"T_219b2_row20_col0\" class=\"data row20 col0\" >-0.160545</td>\n",
       "    </tr>\n",
       "    <tr>\n",
       "      <th id=\"T_219b2_level0_row21\" class=\"row_heading level0 row21\" >YearsSinceLastPromotion</th>\n",
       "      <td id=\"T_219b2_row21_col0\" class=\"data row21 col0\" >-0.033019</td>\n",
       "    </tr>\n",
       "    <tr>\n",
       "      <th id=\"T_219b2_level0_row22\" class=\"row_heading level0 row22\" >YearsWithCurrManager</th>\n",
       "      <td id=\"T_219b2_row22_col0\" class=\"data row22 col0\" >-0.156199</td>\n",
       "    </tr>\n",
       "    <tr>\n",
       "      <th id=\"T_219b2_level0_row23\" class=\"row_heading level0 row23\" >Attrition_numeric</th>\n",
       "      <td id=\"T_219b2_row23_col0\" class=\"data row23 col0\" >1.000000</td>\n",
       "    </tr>\n",
       "  </tbody>\n",
       "</table>\n"
      ],
      "text/plain": [
       "<pandas.io.formats.style.Styler at 0x23986ea96d0>"
      ]
     },
     "execution_count": 21,
     "metadata": {},
     "output_type": "execute_result"
    }
   ],
   "source": [
    "corr[\"Attrition_numeric\"].to_frame().style.background_gradient(cmap=\"Blues\")"
   ]
  },
  {
   "cell_type": "markdown",
   "metadata": {
    "id": "6OdGWwm40-58"
   },
   "source": [
    "**Now let's see a quick summary of the categorical variables!**"
   ]
  },
  {
   "cell_type": "code",
   "execution_count": 22,
   "metadata": {
    "colab": {
     "base_uri": "https://localhost:8080/",
     "height": 269
    },
    "id": "FD4eFlmQ03pt",
    "outputId": "4f6f4fee-0332-457c-b871-ba3f9fe90695"
   },
   "outputs": [
    {
     "data": {
      "text/html": [
       "<div>\n",
       "<style scoped>\n",
       "    .dataframe tbody tr th:only-of-type {\n",
       "        vertical-align: middle;\n",
       "    }\n",
       "\n",
       "    .dataframe tbody tr th {\n",
       "        vertical-align: top;\n",
       "    }\n",
       "\n",
       "    .dataframe thead th {\n",
       "        text-align: right;\n",
       "    }\n",
       "</style>\n",
       "<table border=\"1\" class=\"dataframe\">\n",
       "  <thead>\n",
       "    <tr style=\"text-align: right;\">\n",
       "      <th></th>\n",
       "      <th>count</th>\n",
       "      <th>unique</th>\n",
       "      <th>top</th>\n",
       "      <th>freq</th>\n",
       "    </tr>\n",
       "  </thead>\n",
       "  <tbody>\n",
       "    <tr>\n",
       "      <th>BusinessTravel</th>\n",
       "      <td>1470</td>\n",
       "      <td>3</td>\n",
       "      <td>Travel_Rarely</td>\n",
       "      <td>1043</td>\n",
       "    </tr>\n",
       "    <tr>\n",
       "      <th>Department</th>\n",
       "      <td>1470</td>\n",
       "      <td>3</td>\n",
       "      <td>Research &amp; Development</td>\n",
       "      <td>961</td>\n",
       "    </tr>\n",
       "    <tr>\n",
       "      <th>EducationField</th>\n",
       "      <td>1470</td>\n",
       "      <td>6</td>\n",
       "      <td>Life Sciences</td>\n",
       "      <td>606</td>\n",
       "    </tr>\n",
       "    <tr>\n",
       "      <th>Gender</th>\n",
       "      <td>1470</td>\n",
       "      <td>2</td>\n",
       "      <td>Male</td>\n",
       "      <td>882</td>\n",
       "    </tr>\n",
       "    <tr>\n",
       "      <th>JobRole</th>\n",
       "      <td>1470</td>\n",
       "      <td>9</td>\n",
       "      <td>Sales Executive</td>\n",
       "      <td>326</td>\n",
       "    </tr>\n",
       "    <tr>\n",
       "      <th>MaritalStatus</th>\n",
       "      <td>1470</td>\n",
       "      <td>3</td>\n",
       "      <td>Married</td>\n",
       "      <td>673</td>\n",
       "    </tr>\n",
       "    <tr>\n",
       "      <th>OverTime</th>\n",
       "      <td>1470</td>\n",
       "      <td>2</td>\n",
       "      <td>No</td>\n",
       "      <td>1054</td>\n",
       "    </tr>\n",
       "  </tbody>\n",
       "</table>\n",
       "</div>"
      ],
      "text/plain": [
       "               count unique                     top  freq\n",
       "BusinessTravel  1470      3           Travel_Rarely  1043\n",
       "Department      1470      3  Research & Development   961\n",
       "EducationField  1470      6           Life Sciences   606\n",
       "Gender          1470      2                    Male   882\n",
       "JobRole         1470      9         Sales Executive   326\n",
       "MaritalStatus   1470      3                 Married   673\n",
       "OverTime        1470      2                      No  1054"
      ]
     },
     "execution_count": 22,
     "metadata": {},
     "output_type": "execute_result"
    }
   ],
   "source": [
    "df.describe(include=\"object\").T"
   ]
  },
  {
   "cell_type": "markdown",
   "metadata": {
    "id": "oorzBR4t1bCn"
   },
   "source": [
    "**We see that the most frequent in this company is a person who travels rarely, from the Research & Development department , educated in Life Sciences , gender Male, Married, Sales Executive and no OverTIme**"
   ]
  },
  {
   "cell_type": "code",
   "execution_count": 23,
   "metadata": {
    "id": "BEm3QTdN1Mco"
   },
   "outputs": [],
   "source": [
    "by_bussines =df.groupby(\"BusinessTravel\")[\"Attrition_numeric\"].value_counts(normalize=True).to_frame().unstack()"
   ]
  },
  {
   "cell_type": "code",
   "execution_count": 24,
   "metadata": {
    "colab": {
     "base_uri": "https://localhost:8080/",
     "height": 206
    },
    "id": "tOVWW7Zd1jJX",
    "outputId": "22c25a77-1ed4-4a28-ab9e-7b4d8cb339bf"
   },
   "outputs": [
    {
     "data": {
      "text/html": [
       "<div>\n",
       "<style scoped>\n",
       "    .dataframe tbody tr th:only-of-type {\n",
       "        vertical-align: middle;\n",
       "    }\n",
       "\n",
       "    .dataframe tbody tr th {\n",
       "        vertical-align: top;\n",
       "    }\n",
       "\n",
       "    .dataframe thead tr th {\n",
       "        text-align: left;\n",
       "    }\n",
       "\n",
       "    .dataframe thead tr:last-of-type th {\n",
       "        text-align: right;\n",
       "    }\n",
       "</style>\n",
       "<table border=\"1\" class=\"dataframe\">\n",
       "  <thead>\n",
       "    <tr>\n",
       "      <th></th>\n",
       "      <th colspan=\"2\" halign=\"left\">Attrition_numeric</th>\n",
       "    </tr>\n",
       "    <tr>\n",
       "      <th>Attrition_numeric</th>\n",
       "      <th>0</th>\n",
       "      <th>1</th>\n",
       "    </tr>\n",
       "    <tr>\n",
       "      <th>BusinessTravel</th>\n",
       "      <th></th>\n",
       "      <th></th>\n",
       "    </tr>\n",
       "  </thead>\n",
       "  <tbody>\n",
       "    <tr>\n",
       "      <th>Non-Travel</th>\n",
       "      <td>0.920000</td>\n",
       "      <td>0.080000</td>\n",
       "    </tr>\n",
       "    <tr>\n",
       "      <th>Travel_Frequently</th>\n",
       "      <td>0.750903</td>\n",
       "      <td>0.249097</td>\n",
       "    </tr>\n",
       "    <tr>\n",
       "      <th>Travel_Rarely</th>\n",
       "      <td>0.850431</td>\n",
       "      <td>0.149569</td>\n",
       "    </tr>\n",
       "  </tbody>\n",
       "</table>\n",
       "</div>"
      ],
      "text/plain": [
       "                  Attrition_numeric          \n",
       "Attrition_numeric                 0         1\n",
       "BusinessTravel                               \n",
       "Non-Travel                 0.920000  0.080000\n",
       "Travel_Frequently          0.750903  0.249097\n",
       "Travel_Rarely              0.850431  0.149569"
      ]
     },
     "execution_count": 24,
     "metadata": {},
     "output_type": "execute_result"
    }
   ],
   "source": [
    "by_bussines"
   ]
  },
  {
   "cell_type": "code",
   "execution_count": 25,
   "metadata": {
    "colab": {
     "base_uri": "https://localhost:8080/",
     "height": 437
    },
    "id": "3X0P0-431lRt",
    "outputId": "f1ecc4da-db20-4573-e64a-ce00e0bc2e6d"
   },
   "outputs": [
    {
     "data": {
      "image/png": "[encoded data removed]",
      "text/plain": [
       "<Figure size 600x400 with 1 Axes>"
      ]
     },
     "metadata": {},
     "output_type": "display_data"
    }
   ],
   "source": [
    "plt.figure(figsize=(6,4))\n",
    "ax= sns.barplot(x=by_bussines.index,y=('Attrition_numeric', 0),data=by_bussines,color=\"#C0EDD2\",label=\"Atrition 0\")\n",
    "sns.barplot(x=by_bussines.index,y=('Attrition_numeric', 1),data=by_bussines,color=\"#FF0018\",label=\"Atrition 1\")\n",
    "plt.ylabel('')\n",
    "plt.ylabel(\"Attrition,s Percentage\")\n",
    "plt.xlabel(\"\")\n",
    "plt.grid(False)\n",
    "sns.despine()\n",
    "plt.legend()\n",
    "# using text to personalize title\n",
    "ax.text(-.5,1.13,\"Relationship between Attrition and BusinessTravel\",\n",
    "        fontsize=15,\n",
    "         fontweight='bold')\n",
    "plt.show(block=False)"
   ]
  },
  {
   "cell_type": "markdown",
   "metadata": {
    "id": "pE6t4TpA14Hh"
   },
   "source": [
    "**well, we can see that among employees who travel a lot, the attrition rate is much higher. Let's make a pivot table to check the data more thoroughly**"
   ]
  },
  {
   "cell_type": "code",
   "execution_count": 26,
   "metadata": {
    "colab": {
     "base_uri": "https://localhost:8080/",
     "height": 363
    },
    "id": "317Vh6GA1pdN",
    "outputId": "cf7456fb-b1cb-4063-97c4-a5909d81b190"
   },
   "outputs": [
    {
     "data": {
      "text/html": [
       "<div>\n",
       "<style scoped>\n",
       "    .dataframe tbody tr th:only-of-type {\n",
       "        vertical-align: middle;\n",
       "    }\n",
       "\n",
       "    .dataframe tbody tr th {\n",
       "        vertical-align: top;\n",
       "    }\n",
       "\n",
       "    .dataframe thead th {\n",
       "        text-align: right;\n",
       "    }\n",
       "</style>\n",
       "<table border=\"1\" class=\"dataframe\">\n",
       "  <thead>\n",
       "    <tr style=\"text-align: right;\">\n",
       "      <th>BusinessTravel</th>\n",
       "      <th>Non-Travel</th>\n",
       "      <th>Travel_Frequently</th>\n",
       "      <th>Travel_Rarely</th>\n",
       "    </tr>\n",
       "    <tr>\n",
       "      <th>JobRole</th>\n",
       "      <th></th>\n",
       "      <th></th>\n",
       "      <th></th>\n",
       "    </tr>\n",
       "  </thead>\n",
       "  <tbody>\n",
       "    <tr>\n",
       "      <th>Healthcare Representative</th>\n",
       "      <td>0.066667</td>\n",
       "      <td>0.115385</td>\n",
       "      <td>0.055556</td>\n",
       "    </tr>\n",
       "    <tr>\n",
       "      <th>Human Resources</th>\n",
       "      <td>0.000000</td>\n",
       "      <td>0.400000</td>\n",
       "      <td>0.210526</td>\n",
       "    </tr>\n",
       "    <tr>\n",
       "      <th>Laboratory Technician</th>\n",
       "      <td>0.071429</td>\n",
       "      <td>0.313725</td>\n",
       "      <td>0.244444</td>\n",
       "    </tr>\n",
       "    <tr>\n",
       "      <th>Manager</th>\n",
       "      <td>0.083333</td>\n",
       "      <td>0.000000</td>\n",
       "      <td>0.051948</td>\n",
       "    </tr>\n",
       "    <tr>\n",
       "      <th>Manufacturing Director</th>\n",
       "      <td>0.000000</td>\n",
       "      <td>0.103448</td>\n",
       "      <td>0.067961</td>\n",
       "    </tr>\n",
       "    <tr>\n",
       "      <th>Research Director</th>\n",
       "      <td>0.000000</td>\n",
       "      <td>0.000000</td>\n",
       "      <td>0.032258</td>\n",
       "    </tr>\n",
       "    <tr>\n",
       "      <th>Research Scientist</th>\n",
       "      <td>0.142857</td>\n",
       "      <td>0.277778</td>\n",
       "      <td>0.133333</td>\n",
       "    </tr>\n",
       "    <tr>\n",
       "      <th>Sales Executive</th>\n",
       "      <td>0.102564</td>\n",
       "      <td>0.220339</td>\n",
       "      <td>0.175439</td>\n",
       "    </tr>\n",
       "    <tr>\n",
       "      <th>Sales Representative</th>\n",
       "      <td>0.000000</td>\n",
       "      <td>0.652174</td>\n",
       "      <td>0.327273</td>\n",
       "    </tr>\n",
       "  </tbody>\n",
       "</table>\n",
       "</div>"
      ],
      "text/plain": [
       "BusinessTravel             Non-Travel  Travel_Frequently  Travel_Rarely\n",
       "JobRole                                                                \n",
       "Healthcare Representative    0.066667           0.115385       0.055556\n",
       "Human Resources              0.000000           0.400000       0.210526\n",
       "Laboratory Technician        0.071429           0.313725       0.244444\n",
       "Manager                      0.083333           0.000000       0.051948\n",
       "Manufacturing Director       0.000000           0.103448       0.067961\n",
       "Research Director            0.000000           0.000000       0.032258\n",
       "Research Scientist           0.142857           0.277778       0.133333\n",
       "Sales Executive              0.102564           0.220339       0.175439\n",
       "Sales Representative         0.000000           0.652174       0.327273"
      ]
     },
     "execution_count": 26,
     "metadata": {},
     "output_type": "execute_result"
    }
   ],
   "source": [
    "df.pivot_table(\"Attrition_numeric\",index=\"JobRole\",columns=[\"BusinessTravel\"])"
   ]
  },
  {
   "cell_type": "markdown",
   "metadata": {
    "id": "CXut03ob2fCl"
   },
   "source": [
    "**we can see that among the sales representatives who travel a lot, 65 percent are not very happy; and it is also significant in Human resources: there are 40 percent of the employees who travel a lot who are not very happy either.**\n",
    "\n",
    "**Let's check by department what the the attrition rate is**"
   ]
  },
  {
   "cell_type": "code",
   "execution_count": 27,
   "metadata": {
    "id": "lnzK06z018aJ"
   },
   "outputs": [],
   "source": [
    "by_jobRole =df.groupby(\"JobRole\")[\"Attrition_numeric\"].value_counts(normalize=True).to_frame().unstack()"
   ]
  },
  {
   "cell_type": "code",
   "execution_count": 28,
   "metadata": {
    "colab": {
     "base_uri": "https://localhost:8080/",
     "height": 455
    },
    "id": "sWUcUPrV2mk3",
    "outputId": "5f84af9a-2e09-4dc3-e707-20c41c83b136"
   },
   "outputs": [
    {
     "data": {
      "image/png": "[encoded data removed]",
      "text/plain": [
       "<Figure size 800x400 with 1 Axes>"
      ]
     },
     "metadata": {},
     "output_type": "display_data"
    }
   ],
   "source": [
    "plt.figure(figsize=(8,4))\n",
    "ax=sns.barplot(y=by_jobRole.index,x=('Attrition_numeric', 0),data=by_jobRole,color=\"#C0EDD2\",label=\"Atrition 0\")\n",
    "sns.barplot(y=by_jobRole.index,x=('Attrition_numeric', 1),data=by_jobRole,color=\"#FF0018\",label=\"Atrition 1\")\n",
    "\n",
    "\n",
    "plt.ylabel(\"\")\n",
    "plt.xlabel(\"Attrition,s Percentage\")\n",
    "plt.grid(False)\n",
    "sns.despine()\n",
    "plt.legend()\n",
    "ax.text(0,-2,\"Job Roles and Attriction cases\",\n",
    "        fontsize=15,\n",
    "         fontweight='bold')\n",
    "\n",
    "# with a loop I add the values to the graphic\n",
    "for num,text in zip(range(9),round(by_jobRole['Attrition_numeric', 1],2)):\n",
    "    ax.text(text,num,text)\n",
    "plt.show(block=False)"
   ]
  },
  {
   "cell_type": "markdown",
   "metadata": {
    "id": "cucBUG8V2zaK"
   },
   "source": [
    "**There are three departments where the attrition rate it is higher than usual: Sales Representative,Human Resources and Laboratoy Thecnician**"
   ]
  },
  {
   "cell_type": "code",
   "execution_count": 29,
   "metadata": {
    "id": "J1vULDxt2vak"
   },
   "outputs": [],
   "source": [
    "by_department =df.groupby(\"Department\")[\"Attrition_numeric\"].value_counts(normalize=True).to_frame().unstack()"
   ]
  },
  {
   "cell_type": "code",
   "execution_count": 30,
   "metadata": {
    "colab": {
     "base_uri": "https://localhost:8080/",
     "height": 391
    },
    "id": "H3jxohXz26J4",
    "outputId": "5fa93691-7518-4fb4-c826-333e58d80d21"
   },
   "outputs": [
    {
     "data": {
      "image/png": "[encoded data removed]",
      "text/plain": [
       "<Figure size 800x400 with 1 Axes>"
      ]
     },
     "metadata": {},
     "output_type": "display_data"
    }
   ],
   "source": [
    "plt.figure(figsize=(8,4))\n",
    "sns.barplot(x=by_department.index,y=('Attrition_numeric', 0),data=by_department,color=\"#C0EDD2\",label=\"Atrition 0\")\n",
    "sns.barplot(x=by_department.index,y=('Attrition_numeric', 1),data=by_department,color=\"#FF0018\",label=\"Atrition 1\")\n",
    "plt.ylabel('')\n",
    "plt.title(\"Departments and Attriction cases\",fontweight=\"bold\")\n",
    "plt.xlabel(\"\")\n",
    "plt.ylabel(\"Attrition,s Percentage\")\n",
    "plt.grid(False)\n",
    "plt.legend()\n",
    "sns.despine()"
   ]
  },
  {
   "cell_type": "markdown",
   "metadata": {
    "id": "7IXyB_AL3m4s"
   },
   "source": [
    "**Age**\n",
    "\n",
    "\n",
    "**let's look at age! the attrition rate is higher in younger people.**\n",
    "\n",
    "**First we use the cut function to create four groups according to their ages and then groupby and value counts(normalize) to see the percentages. between 18 and 30 the attrition rate is the highest!**"
   ]
  },
  {
   "cell_type": "code",
   "execution_count": 31,
   "metadata": {
    "colab": {
     "base_uri": "https://localhost:8080/",
     "height": 174
    },
    "id": "503bLG5G29L2",
    "outputId": "0ab7db6e-8c07-4718-80af-62ae0e542303"
   },
   "outputs": [
    {
     "data": {
      "text/html": [
       "<div>\n",
       "<style scoped>\n",
       "    .dataframe tbody tr th:only-of-type {\n",
       "        vertical-align: middle;\n",
       "    }\n",
       "\n",
       "    .dataframe tbody tr th {\n",
       "        vertical-align: top;\n",
       "    }\n",
       "\n",
       "    .dataframe thead th {\n",
       "        text-align: right;\n",
       "    }\n",
       "</style>\n",
       "<table border=\"1\" class=\"dataframe\">\n",
       "  <thead>\n",
       "    <tr style=\"text-align: right;\">\n",
       "      <th>Attrition_numeric</th>\n",
       "      <th>0</th>\n",
       "      <th>1</th>\n",
       "    </tr>\n",
       "    <tr>\n",
       "      <th>Age</th>\n",
       "      <th></th>\n",
       "      <th></th>\n",
       "    </tr>\n",
       "  </thead>\n",
       "  <tbody>\n",
       "    <tr>\n",
       "      <th>(18, 30]</th>\n",
       "      <td>0.746032</td>\n",
       "      <td>0.253968</td>\n",
       "    </tr>\n",
       "    <tr>\n",
       "      <th>(30, 50]</th>\n",
       "      <td>0.873539</td>\n",
       "      <td>0.126461</td>\n",
       "    </tr>\n",
       "    <tr>\n",
       "      <th>(50, 60]</th>\n",
       "      <td>0.874126</td>\n",
       "      <td>0.125874</td>\n",
       "    </tr>\n",
       "  </tbody>\n",
       "</table>\n",
       "</div>"
      ],
      "text/plain": [
       "Attrition_numeric         0         1\n",
       "Age                                  \n",
       "(18, 30]           0.746032  0.253968\n",
       "(30, 50]           0.873539  0.126461\n",
       "(50, 60]           0.874126  0.125874"
      ]
     },
     "execution_count": 31,
     "metadata": {},
     "output_type": "execute_result"
    }
   ],
   "source": [
    "cut_age = pd.cut(df[\"Age\"],bins=[18,30,50,60],include_lowest=False)\n",
    "df.groupby(cut_age)[\"Attrition_numeric\"].value_counts(normalize=True).unstack()"
   ]
  },
  {
   "cell_type": "code",
   "execution_count": 32,
   "metadata": {
    "colab": {
     "base_uri": "https://localhost:8080/",
     "height": 486
    },
    "id": "92ud9sNa4Et5",
    "outputId": "1e01820d-b308-48aa-b8ae-a28f32f25c14"
   },
   "outputs": [
    {
     "data": {
      "image/png": "[encoded data removed]",
      "text/plain": [
       "<Figure size 600x400 with 1 Axes>"
      ]
     },
     "metadata": {},
     "output_type": "display_data"
    }
   ],
   "source": [
    "plt.figure(figsize=(6,4))\n",
    "ax = sns.distplot(attrition_yes[\"Age\"],hist=False,label=\"Yes\",color=\"r\")\n",
    "ax = sns.distplot(attrition_no[\"Age\"],hist=False,label=\"No\",color=\"#C0EDD2\")\n",
    "\n",
    "plt.ylabel(\"Density\")\n",
    "plt.legend()\n",
    "# Get the two lines from the axes to generate shading\n",
    "l1 = ax.lines[0]\n",
    "l2 = ax.lines[1]\n",
    "\n",
    "# Get the xy data from the lines so that we can shade\n",
    "x1 = l1.get_xydata()[:,0]\n",
    "y1 = l1.get_xydata()[:,1]\n",
    "x2 = l2.get_xydata()[:,0]\n",
    "y2 = l2.get_xydata()[:,1]\n",
    "ax.fill_between(x1,y1, color=\"red\", alpha=0.3)\n",
    "ax.fill_between(x2,y2, color=\"#C0EDD2\", alpha=0.3)\n",
    "sns.despine()\n",
    "ax.text(5,0.064,\"Age Density Distribution by Attrition\",\n",
    "        fontsize=15,\n",
    "         fontweight='bold')\n",
    "plt.show()"
   ]
  },
  {
   "cell_type": "code",
   "execution_count": 33,
   "metadata": {
    "colab": {
     "base_uri": "https://localhost:8080/",
     "height": 614
    },
    "id": "OSSwaRgY4NYr",
    "outputId": "9f9efc4f-7ab6-4736-b95a-d12ad64d68a8"
   },
   "outputs": [
    {
     "data": {
      "image/png": "[encoded data removed]",
      "text/plain": [
       "<Figure size 1400x600 with 3 Axes>"
      ]
     },
     "metadata": {},
     "output_type": "display_data"
    }
   ],
   "source": [
    "plt.figure(figsize=(14,6))\n",
    "plt.suptitle('OverTime,Gender and Marital Status versus Attrition,s Percentage',fontweight=\"bold\",fontsize=18,y=1.0)\n",
    "\n",
    "for i,column in enumerate([\"Gender\",\"MaritalStatus\",\"OverTime\"],1):\n",
    "    group =df.groupby(column)[\"Attrition_numeric\"].value_counts(normalize=True).to_frame().unstack()\n",
    "\n",
    "    plt.subplot(1, 3,i)\n",
    "    sns.barplot(x=group.index,y=('Attrition_numeric', 0),data=group,color=\"#C0EDD2\",label=\"Atrition 0\")\n",
    "    sns.barplot(x=group.index,y=('Attrition_numeric', 1),data=group,color=\"#FF0018\",label=\"Atrition 1\")\n",
    "    if i == 1:\n",
    "        plt.ylabel(\"Attrition,s Percentage\",fontweight=\"bold\")\n",
    "    else:\n",
    "        plt.ylabel(\"\",fontweight=\"bold\")\n",
    "    plt.xlabel(column,fontweight=\"bold\")\n",
    "    plt.legend()\n",
    "    plt.grid(False)"
   ]
  },
  {
   "cell_type": "markdown",
   "metadata": {
    "id": "fpfNZVdZ4d-P"
   },
   "source": [
    "**Gender does not influence much, but being single and working a lot of overtime are important factors to take into account.**\n",
    "\n",
    "**Working far away from home is also important, here we see that from 10 km away it begins to be noticed in the attrition rate**"
   ]
  },
  {
   "cell_type": "code",
   "execution_count": 34,
   "metadata": {
    "colab": {
     "base_uri": "https://localhost:8080/",
     "height": 360
    },
    "id": "tDsBLO_Y4Wpa",
    "outputId": "79d62aa3-9b4a-495e-c2dc-391575d91b0d"
   },
   "outputs": [
    {
     "data": {
      "image/png": "[encoded data removed]",
      "text/plain": [
       "<Figure size 700x300 with 1 Axes>"
      ]
     },
     "metadata": {},
     "output_type": "display_data"
    }
   ],
   "source": [
    "plt.figure(figsize=(7,3))\n",
    "ax = sns.distplot(attrition_yes[\"DistanceFromHome\"],hist=False,label=\"Yes\",color=\"r\")\n",
    "ax = sns.distplot(attrition_no[\"DistanceFromHome\"],hist=False,label=\"No\",color=\"#C0EDD2\")\n",
    "\n",
    "plt.ylabel(\"Density\")\n",
    "plt.legend()\n",
    "# Get the two lines from the axes to generate shading\n",
    "l1 = ax.lines[0]\n",
    "l2 = ax.lines[1]\n",
    "\n",
    "# Get the xy data from the lines so that we can shade\n",
    "x1 = l1.get_xydata()[:,0]\n",
    "y1 = l1.get_xydata()[:,1]\n",
    "x2 = l2.get_xydata()[:,0]\n",
    "y2 = l2.get_xydata()[:,1]\n",
    "ax.fill_between(x1,y1, color=\"red\", alpha=0.3)\n",
    "ax.fill_between(x2,y2, color=\"#C0EDD2\", alpha=0.3)\n",
    "sns.despine()\n",
    "ax.text(-11.35,0.093,\"DistanceFromHome Density Distribution by Attrition\",\n",
    "        fontsize=15, fontweight='bold')\n",
    "plt.show()"
   ]
  },
  {
   "cell_type": "markdown",
   "metadata": {
    "id": "olKw2NFD5Aze"
   },
   "source": [
    "**with the cut function I will make three groups: those who live up to 10,20 and 30 km away from work; then we make groupby and with value counts (normalize) we see the percentages in relation to Attriction**"
   ]
  },
  {
   "cell_type": "code",
   "execution_count": 35,
   "metadata": {
    "colab": {
     "base_uri": "https://localhost:8080/",
     "height": 174
    },
    "id": "qTppqGGN43Dl",
    "outputId": "c6f2607d-1bff-43e2-ce2f-107032f2c7c3"
   },
   "outputs": [
    {
     "data": {
      "text/html": [
       "<div>\n",
       "<style scoped>\n",
       "    .dataframe tbody tr th:only-of-type {\n",
       "        vertical-align: middle;\n",
       "    }\n",
       "\n",
       "    .dataframe tbody tr th {\n",
       "        vertical-align: top;\n",
       "    }\n",
       "\n",
       "    .dataframe thead th {\n",
       "        text-align: right;\n",
       "    }\n",
       "</style>\n",
       "<table border=\"1\" class=\"dataframe\">\n",
       "  <thead>\n",
       "    <tr style=\"text-align: right;\">\n",
       "      <th>Attrition_numeric</th>\n",
       "      <th>0</th>\n",
       "      <th>1</th>\n",
       "    </tr>\n",
       "    <tr>\n",
       "      <th>DistanceFromHome</th>\n",
       "      <th></th>\n",
       "      <th></th>\n",
       "    </tr>\n",
       "  </thead>\n",
       "  <tbody>\n",
       "    <tr>\n",
       "      <th>(1, 10]</th>\n",
       "      <td>0.855746</td>\n",
       "      <td>0.144254</td>\n",
       "    </tr>\n",
       "    <tr>\n",
       "      <th>(10, 20]</th>\n",
       "      <td>0.800000</td>\n",
       "      <td>0.200000</td>\n",
       "    </tr>\n",
       "    <tr>\n",
       "      <th>(20, 30]</th>\n",
       "      <td>0.779412</td>\n",
       "      <td>0.220588</td>\n",
       "    </tr>\n",
       "  </tbody>\n",
       "</table>\n",
       "</div>"
      ],
      "text/plain": [
       "Attrition_numeric         0         1\n",
       "DistanceFromHome                     \n",
       "(1, 10]            0.855746  0.144254\n",
       "(10, 20]           0.800000  0.200000\n",
       "(20, 30]           0.779412  0.220588"
      ]
     },
     "execution_count": 35,
     "metadata": {},
     "output_type": "execute_result"
    }
   ],
   "source": [
    "cut_distance = pd.cut(df[\"DistanceFromHome\"],bins=[1,10,20,30],include_lowest=False)\n",
    "df.groupby(cut_distance)[\"Attrition_numeric\"].value_counts(normalize=True).unstack()"
   ]
  },
  {
   "cell_type": "markdown",
   "metadata": {
    "id": "Aj8FjAPl5L2w"
   },
   "source": [
    "**we find that as the distance increases, the attrition rate rises from 14 to 22 percent.**"
   ]
  },
  {
   "cell_type": "markdown",
   "metadata": {
    "id": "_67UumbJ5ZtD"
   },
   "source": [
    "# Monthly Income"
   ]
  },
  {
   "cell_type": "code",
   "execution_count": 36,
   "metadata": {
    "colab": {
     "base_uri": "https://localhost:8080/",
     "height": 522
    },
    "id": "ZgFTrN545HJt",
    "outputId": "00f0cefd-c4c5-453c-b2d4-a946a5ea74f4"
   },
   "outputs": [
    {
     "data": {
      "image/png": "[encoded data removed]",
      "text/plain": [
       "<Figure size 640x480 with 1 Axes>"
      ]
     },
     "metadata": {},
     "output_type": "display_data"
    }
   ],
   "source": [
    "ax = sns.boxplot(x=\"Gender\",y='MonthlyIncome',data=df,palette={\"Female\":\"red\",\"Male\":\"#C0EDD2\"})\n",
    "sns.despine()\n",
    "\n",
    "\n",
    "ax.text(-0.5,24150,\"MonthlyIncome by Gender\",\n",
    "        fontsize=15,\n",
    "         fontweight='bold')\n",
    "\n",
    "plt.show(block=False)"
   ]
  },
  {
   "cell_type": "code",
   "execution_count": 37,
   "metadata": {
    "colab": {
     "base_uri": "https://localhost:8080/",
     "height": 363
    },
    "id": "oc9QCVYo5dpI",
    "outputId": "8c30d9bd-dfe3-4308-b1d9-9ad2806ac61f"
   },
   "outputs": [
    {
     "data": {
      "text/html": [
       "<div>\n",
       "<style scoped>\n",
       "    .dataframe tbody tr th:only-of-type {\n",
       "        vertical-align: middle;\n",
       "    }\n",
       "\n",
       "    .dataframe tbody tr th {\n",
       "        vertical-align: top;\n",
       "    }\n",
       "\n",
       "    .dataframe thead th {\n",
       "        text-align: right;\n",
       "    }\n",
       "</style>\n",
       "<table border=\"1\" class=\"dataframe\">\n",
       "  <thead>\n",
       "    <tr style=\"text-align: right;\">\n",
       "      <th>Gender</th>\n",
       "      <th>Female</th>\n",
       "      <th>Male</th>\n",
       "    </tr>\n",
       "    <tr>\n",
       "      <th>JobRole</th>\n",
       "      <th></th>\n",
       "      <th></th>\n",
       "    </tr>\n",
       "  </thead>\n",
       "  <tbody>\n",
       "    <tr>\n",
       "      <th>Healthcare Representative</th>\n",
       "      <td>7433.803922</td>\n",
       "      <td>7589.300000</td>\n",
       "    </tr>\n",
       "    <tr>\n",
       "      <th>Human Resources</th>\n",
       "      <td>4540.687500</td>\n",
       "      <td>4100.222222</td>\n",
       "    </tr>\n",
       "    <tr>\n",
       "      <th>Laboratory Technician</th>\n",
       "      <td>3246.905882</td>\n",
       "      <td>3232.413793</td>\n",
       "    </tr>\n",
       "    <tr>\n",
       "      <th>Manager</th>\n",
       "      <td>16915.276596</td>\n",
       "      <td>17409.327273</td>\n",
       "    </tr>\n",
       "    <tr>\n",
       "      <th>Manufacturing Director</th>\n",
       "      <td>7409.166667</td>\n",
       "      <td>7182.671233</td>\n",
       "    </tr>\n",
       "    <tr>\n",
       "      <th>Research Director</th>\n",
       "      <td>15144.484848</td>\n",
       "      <td>16657.787234</td>\n",
       "    </tr>\n",
       "    <tr>\n",
       "      <th>Research Scientist</th>\n",
       "      <td>3344.473684</td>\n",
       "      <td>3173.044944</td>\n",
       "    </tr>\n",
       "    <tr>\n",
       "      <th>Sales Executive</th>\n",
       "      <td>6764.310606</td>\n",
       "      <td>7033.123711</td>\n",
       "    </tr>\n",
       "    <tr>\n",
       "      <th>Sales Representative</th>\n",
       "      <td>2671.947368</td>\n",
       "      <td>2587.200000</td>\n",
       "    </tr>\n",
       "  </tbody>\n",
       "</table>\n",
       "</div>"
      ],
      "text/plain": [
       "Gender                           Female          Male\n",
       "JobRole                                              \n",
       "Healthcare Representative   7433.803922   7589.300000\n",
       "Human Resources             4540.687500   4100.222222\n",
       "Laboratory Technician       3246.905882   3232.413793\n",
       "Manager                    16915.276596  17409.327273\n",
       "Manufacturing Director      7409.166667   7182.671233\n",
       "Research Director          15144.484848  16657.787234\n",
       "Research Scientist          3344.473684   3173.044944\n",
       "Sales Executive             6764.310606   7033.123711\n",
       "Sales Representative        2671.947368   2587.200000"
      ]
     },
     "execution_count": 37,
     "metadata": {},
     "output_type": "execute_result"
    }
   ],
   "source": [
    "df.pivot_table('MonthlyIncome',index=\"JobRole\",columns=\"Gender\")"
   ]
  },
  {
   "cell_type": "markdown",
   "metadata": {
    "id": "RlNVri9P51hJ"
   },
   "source": [
    "**now let's look at the salaries by department and their relation to the average of the whole company**"
   ]
  },
  {
   "cell_type": "code",
   "execution_count": 38,
   "metadata": {
    "id": "QuqkPBy-5v6P"
   },
   "outputs": [],
   "source": [
    "jobrole_income = df.groupby(\"JobRole\")[\"MonthlyIncome\"].describe()"
   ]
  },
  {
   "cell_type": "code",
   "execution_count": 39,
   "metadata": {
    "colab": {
     "base_uri": "https://localhost:8080/",
     "height": 436
    },
    "id": "yXVAr6W8589l",
    "outputId": "a5f46642-6437-4db2-c0c0-cd642ec1acbf"
   },
   "outputs": [
    {
     "data": {
      "image/png": "[encoded data removed]",
      "text/plain": [
       "<Figure size 800x400 with 1 Axes>"
      ]
     },
     "metadata": {},
     "output_type": "display_data"
    }
   ],
   "source": [
    "job_income_mean = jobrole_income[\"mean\"].reset_index().sort_values(by=\"mean\",ascending=False)\n",
    "import matplotlib.ticker as ticker\n",
    "plt.figure(figsize=(8,4))\n",
    "ax = sns.barplot(y=\"JobRole\",x=\"mean\",data=job_income_mean,color=\"#C0EDD2\")\n",
    "# with axvline we can draw a vertical line\n",
    "ax.axvline(df['MonthlyIncome'].mean(),color=\"red\")\n",
    "\n",
    "plt.ylabel(\"\")\n",
    "plt.xlabel(\"\")\n",
    "plt.grid(False)\n",
    "sns.despine()\n",
    "# add $ to axis\n",
    "formatter = ticker.FormatStrFormatter('$%1.2f')\n",
    "ax.xaxis.set_major_formatter(formatter)\n",
    "# add text anotation\n",
    "ax.text(7300, 8, \"IBM MonthlyIncome,s Mean\", horizontalalignment='left', size='medium', color='black', weight='semibold')\n",
    "for text,num in zip(round(job_income_mean[\"mean\"],2),range(9)):\n",
    "    ax.text(text,num,text)\n",
    "ax.text(-0.3,-2,\"Job Roles MonthlyIncome's mean\",\n",
    "        fontsize=15,\n",
    "         fontweight='bold')\n",
    "plt.show()"
   ]
  },
  {
   "cell_type": "markdown",
   "metadata": {
    "id": "H1vlvX566wY_"
   },
   "source": [
    "**Now we are going to make a graph that reflects salaries, years worked in the company, satisfaction level and the attrition rate**"
   ]
  },
  {
   "cell_type": "code",
   "execution_count": 40,
   "metadata": {
    "colab": {
     "base_uri": "https://localhost:8080/",
     "height": 531
    },
    "id": "HQLKCVHz6FvN",
    "outputId": "0eb622ad-835d-4cea-ccde-01c597ba35d8"
   },
   "outputs": [
    {
     "data": {
      "image/png": "[encoded data removed]",
      "text/plain": [
       "<Figure size 642.472x500 with 1 Axes>"
      ]
     },
     "metadata": {},
     "output_type": "display_data"
    }
   ],
   "source": [
    "ax=sns.relplot(x='TotalWorkingYears', y='MonthlyIncome', hue='Attrition_numeric', size='JobSatisfaction',\n",
    "            sizes=(40, 400), alpha=.5, palette=\"muted\",\n",
    "            height=5, data=df)\n",
    "sns.despine()\n",
    "plt.title(\"$\\\\bf{MonthlyIncome and TotalWorkingYears}$\")\n",
    "\n",
    "plt.show(block=False)"
   ]
  },
  {
   "cell_type": "markdown",
   "metadata": {
    "id": "aIVpYezt9WXe"
   },
   "source": [
    "# Finding categorical columns"
   ]
  },
  {
   "cell_type": "code",
   "execution_count": 41,
   "metadata": {
    "colab": {
     "base_uri": "https://localhost:8080/"
    },
    "id": "1i_4Dpac9MbR",
    "outputId": "6ef36e9b-56cf-4401-d392-23a6a58ce582"
   },
   "outputs": [
    {
     "data": {
      "text/plain": [
       "['BusinessTravel',\n",
       " 'Department',\n",
       " 'EducationField',\n",
       " 'Gender',\n",
       " 'JobRole',\n",
       " 'MaritalStatus',\n",
       " 'OverTime']"
      ]
     },
     "execution_count": 41,
     "metadata": {},
     "output_type": "execute_result"
    }
   ],
   "source": [
    "obj_dtypes= [i for i in df.select_dtypes(include=object).columns]\n",
    "obj_dtypes"
   ]
  },
  {
   "cell_type": "markdown",
   "metadata": {
    "id": "dcKkHohj9b3n"
   },
   "source": [
    "# Categorical variables encoding"
   ]
  },
  {
   "cell_type": "code",
   "execution_count": 42,
   "metadata": {
    "colab": {
     "base_uri": "https://localhost:8080/"
    },
    "id": "JOYPkwXE9S2X",
    "outputId": "1c3e016a-c7df-4aba-84fa-282cd79bae95"
   },
   "outputs": [
    {
     "name": "stdout",
     "output_type": "stream",
     "text": [
      "<class 'pandas.core.frame.DataFrame'>\n",
      "RangeIndex: 1470 entries, 0 to 1469\n",
      "Data columns (total 31 columns):\n",
      " #   Column                    Non-Null Count  Dtype\n",
      "---  ------                    --------------  -----\n",
      " 0   Age                       1470 non-null   int64\n",
      " 1   BusinessTravel            1470 non-null   int32\n",
      " 2   DailyRate                 1470 non-null   int64\n",
      " 3   Department                1470 non-null   int32\n",
      " 4   DistanceFromHome          1470 non-null   int64\n",
      " 5   Education                 1470 non-null   int64\n",
      " 6   EducationField            1470 non-null   int32\n",
      " 7   EnvironmentSatisfaction   1470 non-null   int64\n",
      " 8   Gender                    1470 non-null   int32\n",
      " 9   HourlyRate                1470 non-null   int64\n",
      " 10  JobInvolvement            1470 non-null   int64\n",
      " 11  JobLevel                  1470 non-null   int64\n",
      " 12  JobRole                   1470 non-null   int32\n",
      " 13  JobSatisfaction           1470 non-null   int64\n",
      " 14  MaritalStatus             1470 non-null   int32\n",
      " 15  MonthlyIncome             1470 non-null   int64\n",
      " 16  MonthlyRate               1470 non-null   int64\n",
      " 17  NumCompaniesWorked        1470 non-null   int64\n",
      " 18  OverTime                  1470 non-null   int32\n",
      " 19  PercentSalaryHike         1470 non-null   int64\n",
      " 20  PerformanceRating         1470 non-null   int64\n",
      " 21  RelationshipSatisfaction  1470 non-null   int64\n",
      " 22  StockOptionLevel          1470 non-null   int64\n",
      " 23  TotalWorkingYears         1470 non-null   int64\n",
      " 24  TrainingTimesLastYear     1470 non-null   int64\n",
      " 25  WorkLifeBalance           1470 non-null   int64\n",
      " 26  YearsAtCompany            1470 non-null   int64\n",
      " 27  YearsInCurrentRole        1470 non-null   int64\n",
      " 28  YearsSinceLastPromotion   1470 non-null   int64\n",
      " 29  YearsWithCurrManager      1470 non-null   int64\n",
      " 30  Attrition_numeric         1470 non-null   int64\n",
      "dtypes: int32(7), int64(24)\n",
      "memory usage: 315.9 KB\n",
      "None\n"
     ]
    }
   ],
   "source": [
    "from sklearn.preprocessing import LabelEncoder\n",
    "le = LabelEncoder()\n",
    "for feat in obj_dtypes:\n",
    "    df[feat] = le.fit_transform(df[feat].astype(str))\n",
    "print (df.info())"
   ]
  },
  {
   "cell_type": "markdown",
   "metadata": {
    "id": "k3f59ruP7W8G"
   },
   "source": [
    "# Checking the distribution of target variable"
   ]
  },
  {
   "cell_type": "code",
   "execution_count": 43,
   "metadata": {
    "colab": {
     "base_uri": "https://localhost:8080/",
     "height": 517
    },
    "id": "3yVmyz7A69Mz",
    "outputId": "126ac8b2-2eb2-4c4b-a0b0-94bc354f307f"
   },
   "outputs": [
    {
     "data": {
      "image/png": "[encoded data removed]",
      "text/plain": [
       "<Figure size 1300x600 with 1 Axes>"
      ]
     },
     "metadata": {},
     "output_type": "display_data"
    }
   ],
   "source": [
    "fig = plt.figure(figsize=(13,6))\n",
    "plt.subplot(121)\n",
    "df['Attrition_numeric'].value_counts().plot.pie(autopct = '%1.0f%%' , colors=['red','yellow'],startangle = 60, wedgeprops={\"linewidth\":2 , \"edgecolor\":\"k\"}, shadow=True)\n",
    "plt.title(\"Distribution of Turnover\")\n",
    "plt.show()"
   ]
  },
  {
   "cell_type": "code",
   "execution_count": 44,
   "metadata": {
    "colab": {
     "base_uri": "https://localhost:8080/"
    },
    "id": "DGawwpXP8lQo",
    "outputId": "75ccfa5e-c56e-44b6-d2ef-05b4751296ee"
   },
   "outputs": [
    {
     "data": {
      "text/plain": [
       "0    1233\n",
       "1     237\n",
       "Name: Attrition_numeric, dtype: int64"
      ]
     },
     "execution_count": 44,
     "metadata": {},
     "output_type": "execute_result"
    }
   ],
   "source": [
    "df['Attrition_numeric'].value_counts()"
   ]
  },
  {
   "cell_type": "markdown",
   "metadata": {
    "id": "Dhp-e84a8SnZ"
   },
   "source": [
    "**As we can see above there is imbalanced data in target so let's make it balanced by applying SMOTE Technique.**"
   ]
  },
  {
   "cell_type": "code",
   "execution_count": 45,
   "metadata": {
    "id": "xKbRoDJN7bjd"
   },
   "outputs": [],
   "source": [
    "x=df.drop(['Attrition_numeric'] , axis = 1)\n",
    "y=df['Attrition_numeric']"
   ]
  },
  {
   "cell_type": "code",
   "execution_count": 46,
   "metadata": {
    "id": "957xAXu4827D"
   },
   "outputs": [],
   "source": [
    "from imblearn.over_sampling import SMOTE"
   ]
  },
  {
   "cell_type": "code",
   "execution_count": 47,
   "metadata": {
    "id": "dd2G4RFE89xB"
   },
   "outputs": [],
   "source": [
    "x_resampled,y_resampled=SMOTE().fit_resample(x,y)"
   ]
  },
  {
   "cell_type": "code",
   "execution_count": 48,
   "metadata": {
    "colab": {
     "base_uri": "https://localhost:8080/"
    },
    "id": "8q7ecHMt9CCG",
    "outputId": "5bd706ff-0f05-4a15-dffa-fdf843171cbe"
   },
   "outputs": [
    {
     "data": {
      "text/plain": [
       "1    1233\n",
       "0    1233\n",
       "Name: Attrition_numeric, dtype: int64"
      ]
     },
     "execution_count": 48,
     "metadata": {},
     "output_type": "execute_result"
    }
   ],
   "source": [
    "y_resampled.value_counts()"
   ]
  },
  {
   "cell_type": "markdown",
   "metadata": {
    "id": "mBK-am4z_u4K"
   },
   "source": [
    "**Now we are having balanced data**"
   ]
  },
  {
   "cell_type": "markdown",
   "metadata": {
    "id": "ZlvDFi0Y_jap"
   },
   "source": [
    "# **Splitting the data into train and test**"
   ]
  },
  {
   "cell_type": "code",
   "execution_count": 49,
   "metadata": {
    "id": "rSEdzdQH_o1S"
   },
   "outputs": [],
   "source": [
    "from sklearn.model_selection import train_test_split\n",
    "x_train, X_test, y_train, y_test = train_test_split(x_resampled, y_resampled , test_size=0.1, random_state=0)\n"
   ]
  },
  {
   "cell_type": "markdown",
   "metadata": {
    "id": "9o4p79r8-FSs"
   },
   "source": [
    "# **Model Building**"
   ]
  },
  {
   "cell_type": "markdown",
   "metadata": {
    "id": "-GPd0pESBMkQ"
   },
   "source": [
    "# 1.Logistic Regression"
   ]
  },
  {
   "cell_type": "code",
   "execution_count": 50,
   "metadata": {
    "colab": {
     "base_uri": "https://localhost:8080/",
     "height": 134
    },
    "id": "edVNfR0W9xNn",
    "outputId": "1c243060-66ff-4020-c88e-418ef3fd8c23"
   },
   "outputs": [
    {
     "name": "stdout",
     "output_type": "stream",
     "text": [
      "Fitting 5 folds for each of 42 candidates, totalling 210 fits\n"
     ]
    },
    {
     "data": {
      "text/html": [
       "<style>#sk-container-id-1 {color: black;background-color: white;}#sk-container-id-1 pre{padding: 0;}#sk-container-id-1 div.sk-toggleable {background-color: white;}#sk-container-id-1 label.sk-toggleable__label {cursor: pointer;display: block;width: 100%;margin-bottom: 0;padding: 0.3em;box-sizing: border-box;text-align: center;}#sk-container-id-1 label.sk-toggleable__label-arrow:before {content: \"▸\";float: left;margin-right: 0.25em;color: #696969;}#sk-container-id-1 label.sk-toggleable__label-arrow:hover:before {color: black;}#sk-container-id-1 div.sk-estimator:hover label.sk-toggleable__label-arrow:before {color: black;}#sk-container-id-1 div.sk-toggleable__content {max-height: 0;max-width: 0;overflow: hidden;text-align: left;background-color: #f0f8ff;}#sk-container-id-1 div.sk-toggleable__content pre {margin: 0.2em;color: black;border-radius: 0.25em;background-color: #f0f8ff;}#sk-container-id-1 input.sk-toggleable__control:checked~div.sk-toggleable__content {max-height: 200px;max-width: 100%;overflow: auto;}#sk-container-id-1 input.sk-toggleable__control:checked~label.sk-toggleable__label-arrow:before {content: \"▾\";}#sk-container-id-1 div.sk-estimator input.sk-toggleable__control:checked~label.sk-toggleable__label {background-color: #d4ebff;}#sk-container-id-1 div.sk-label input.sk-toggleable__control:checked~label.sk-toggleable__label {background-color: #d4ebff;}#sk-container-id-1 input.sk-hidden--visually {border: 0;clip: rect(1px 1px 1px 1px);clip: rect(1px, 1px, 1px, 1px);height: 1px;margin: -1px;overflow: hidden;padding: 0;position: absolute;width: 1px;}#sk-container-id-1 div.sk-estimator {font-family: monospace;background-color: #f0f8ff;border: 1px dotted black;border-radius: 0.25em;box-sizing: border-box;margin-bottom: 0.5em;}#sk-container-id-1 div.sk-estimator:hover {background-color: #d4ebff;}#sk-container-id-1 div.sk-parallel-item::after {content: \"\";width: 100%;border-bottom: 1px solid gray;flex-grow: 1;}#sk-container-id-1 div.sk-label:hover label.sk-toggleable__label {background-color: #d4ebff;}#sk-container-id-1 div.sk-serial::before {content: \"\";position: absolute;border-left: 1px solid gray;box-sizing: border-box;top: 0;bottom: 0;left: 50%;z-index: 0;}#sk-container-id-1 div.sk-serial {display: flex;flex-direction: column;align-items: center;background-color: white;padding-right: 0.2em;padding-left: 0.2em;position: relative;}#sk-container-id-1 div.sk-item {position: relative;z-index: 1;}#sk-container-id-1 div.sk-parallel {display: flex;align-items: stretch;justify-content: center;background-color: white;position: relative;}#sk-container-id-1 div.sk-item::before, #sk-container-id-1 div.sk-parallel-item::before {content: \"\";position: absolute;border-left: 1px solid gray;box-sizing: border-box;top: 0;bottom: 0;left: 50%;z-index: -1;}#sk-container-id-1 div.sk-parallel-item {display: flex;flex-direction: column;z-index: 1;position: relative;background-color: white;}#sk-container-id-1 div.sk-parallel-item:first-child::after {align-self: flex-end;width: 50%;}#sk-container-id-1 div.sk-parallel-item:last-child::after {align-self: flex-start;width: 50%;}#sk-container-id-1 div.sk-parallel-item:only-child::after {width: 0;}#sk-container-id-1 div.sk-dashed-wrapped {border: 1px dashed gray;margin: 0 0.4em 0.5em 0.4em;box-sizing: border-box;padding-bottom: 0.4em;background-color: white;}#sk-container-id-1 div.sk-label label {font-family: monospace;font-weight: bold;display: inline-block;line-height: 1.2em;}#sk-container-id-1 div.sk-label-container {text-align: center;}#sk-container-id-1 div.sk-container {/* jupyter's `normalize.less` sets `[hidden] { display: none; }` but bootstrap.min.css set `[hidden] { display: none !important; }` so we also need the `!important` here to be able to override the default hidden behavior on the sphinx rendered scikit-learn.org. See: https://github.com/scikit-learn/scikit-learn/issues/21755 */display: inline-block !important;position: relative;}#sk-container-id-1 div.sk-text-repr-fallback {display: none;}</style><div id=\"sk-container-id-1\" class=\"sk-top-container\"><div class=\"sk-text-repr-fallback\"><pre>GridSearchCV(cv=5, estimator=LogisticRegression(), n_jobs=3,\n",
       "             param_grid={&#x27;C&#x27;: array([1.e-03, 1.e-02, 1.e-01, 1.e+00, 1.e+01, 1.e+02, 1.e+03]),\n",
       "                         &#x27;penalty&#x27;: [&#x27;l1&#x27;, &#x27;l2&#x27;],\n",
       "                         &#x27;solver&#x27;: [&#x27;newton-cg&#x27;, &#x27;lbfgs&#x27;, &#x27;liblinear&#x27;]},\n",
       "             verbose=5)</pre><b>In a Jupyter environment, please rerun this cell to show the HTML representation or trust the notebook. <br />On GitHub, the HTML representation is unable to render, please try loading this page with nbviewer.org.</b></div><div class=\"sk-container\" hidden><div class=\"sk-item sk-dashed-wrapped\"><div class=\"sk-label-container\"><div class=\"sk-label sk-toggleable\"><input class=\"sk-toggleable__control sk-hidden--visually\" id=\"sk-estimator-id-1\" type=\"checkbox\" ><label for=\"sk-estimator-id-1\" class=\"sk-toggleable__label sk-toggleable__label-arrow\">GridSearchCV</label><div class=\"sk-toggleable__content\"><pre>GridSearchCV(cv=5, estimator=LogisticRegression(), n_jobs=3,\n",
       "             param_grid={&#x27;C&#x27;: array([1.e-03, 1.e-02, 1.e-01, 1.e+00, 1.e+01, 1.e+02, 1.e+03]),\n",
       "                         &#x27;penalty&#x27;: [&#x27;l1&#x27;, &#x27;l2&#x27;],\n",
       "                         &#x27;solver&#x27;: [&#x27;newton-cg&#x27;, &#x27;lbfgs&#x27;, &#x27;liblinear&#x27;]},\n",
       "             verbose=5)</pre></div></div></div><div class=\"sk-parallel\"><div class=\"sk-parallel-item\"><div class=\"sk-item\"><div class=\"sk-label-container\"><div class=\"sk-label sk-toggleable\"><input class=\"sk-toggleable__control sk-hidden--visually\" id=\"sk-estimator-id-2\" type=\"checkbox\" ><label for=\"sk-estimator-id-2\" class=\"sk-toggleable__label sk-toggleable__label-arrow\">estimator: LogisticRegression</label><div class=\"sk-toggleable__content\"><pre>LogisticRegression()</pre></div></div></div><div class=\"sk-serial\"><div class=\"sk-item\"><div class=\"sk-estimator sk-toggleable\"><input class=\"sk-toggleable__control sk-hidden--visually\" id=\"sk-estimator-id-3\" type=\"checkbox\" ><label for=\"sk-estimator-id-3\" class=\"sk-toggleable__label sk-toggleable__label-arrow\">LogisticRegression</label><div class=\"sk-toggleable__content\"><pre>LogisticRegression()</pre></div></div></div></div></div></div></div></div></div></div>"
      ],
      "text/plain": [
       "GridSearchCV(cv=5, estimator=LogisticRegression(), n_jobs=3,\n",
       "             param_grid={'C': array([1.e-03, 1.e-02, 1.e-01, 1.e+00, 1.e+01, 1.e+02, 1.e+03]),\n",
       "                         'penalty': ['l1', 'l2'],\n",
       "                         'solver': ['newton-cg', 'lbfgs', 'liblinear']},\n",
       "             verbose=5)"
      ]
     },
     "execution_count": 50,
     "metadata": {},
     "output_type": "execute_result"
    }
   ],
   "source": [
    "from sklearn.model_selection import GridSearchCV\n",
    "from sklearn.linear_model import LogisticRegression\n",
    "from sklearn.metrics import confusion_matrix, precision_recall_curve, auc, roc_auc_score, roc_curve, recall_score, classification_report\n",
    "\n",
    "parameters = {\n",
    "    'penalty' : ['l1','l2'],\n",
    "    'C'       : np.logspace(-3,3,7),\n",
    "    'solver'  : ['newton-cg', 'lbfgs', 'liblinear'],\n",
    "}\n",
    "lr = LogisticRegression()\n",
    "clf = GridSearchCV(lr, parameters, cv=5, verbose=5, n_jobs=3)\n",
    "clf.fit(x_train, y_train)"
   ]
  },
  {
   "cell_type": "code",
   "execution_count": 51,
   "metadata": {
    "colab": {
     "base_uri": "https://localhost:8080/"
    },
    "id": "ONR86nRD-XSf",
    "outputId": "930732b8-318c-4de2-bb5f-4ef73194f5f8"
   },
   "outputs": [
    {
     "name": "stdout",
     "output_type": "stream",
     "text": [
      "Tuned Hyperparameters : {'C': 10.0, 'penalty': 'l2', 'solver': 'newton-cg'}\n",
      "Accuracy : 0.8355144083135053\n"
     ]
    }
   ],
   "source": [
    "print(\"Tuned Hyperparameters :\", clf.best_params_)\n",
    "print(\"Accuracy :\",clf.best_score_)"
   ]
  },
  {
   "cell_type": "markdown",
   "metadata": {
    "id": "yq5Y8Qx2-sVZ"
   },
   "source": [
    "**By applying the grid search hyperparameter tunning we have got the best parameters with the best accuracy 82.186%**"
   ]
  },
  {
   "cell_type": "code",
   "execution_count": 63,
   "metadata": {
    "colab": {
     "base_uri": "https://localhost:8080/"
    },
    "id": "0gEAEdNt-nwn",
    "outputId": "8b145df2-765f-4fee-bf0a-75185d0f30d6"
   },
   "outputs": [
    {
     "name": "stdout",
     "output_type": "stream",
     "text": [
      "Accuracy: 0.8218623481781376\n"
     ]
    }
   ],
   "source": [
    "logreg = LogisticRegression(C = 10.0,\n",
    "                            penalty = 'l2',\n",
    "                            solver = 'newton-cg',\n",
    "                           )\n",
    "logreg.fit(x_train,y_train)\n",
    "y_pred = logreg.predict(X_test)\n",
    "print(\"Accuracy:\",logreg.score(X_test, y_test))"
   ]
  },
  {
   "cell_type": "code",
   "execution_count": 64,
   "metadata": {
    "colab": {
     "base_uri": "https://localhost:8080/"
    },
    "id": "rpV7EwEXAurT",
    "outputId": "0a74bee4-c1a0-4e7f-bbb0-e5e4245f11c4"
   },
   "outputs": [
    {
     "name": "stdout",
     "output_type": "stream",
     "text": [
      "              precision    recall  f1-score   support\n",
      "\n",
      "           0       0.83      0.78      0.80       115\n",
      "           1       0.82      0.86      0.84       132\n",
      "\n",
      "    accuracy                           0.82       247\n",
      "   macro avg       0.82      0.82      0.82       247\n",
      "weighted avg       0.82      0.82      0.82       247\n",
      "\n"
     ]
    }
   ],
   "source": [
    "import sklearn.metrics as metrics\n",
    "classification_report_tuned = metrics.classification_report(y_test , y_pred)\n",
    "print(classification_report_tuned)\n"
   ]
  },
  {
   "cell_type": "code",
   "execution_count": 65,
   "metadata": {
    "colab": {
     "base_uri": "https://localhost:8080/"
    },
    "id": "Ju7GfeKkAndT",
    "outputId": "8d4c113b-30d0-48db-f404-c5e503fa9e71"
   },
   "outputs": [
    {
     "name": "stdout",
     "output_type": "stream",
     "text": [
      "Overall accuracy of logistic regression model: 0.8218623481781376\n"
     ]
    }
   ],
   "source": [
    "from sklearn.metrics import accuracy_score\n",
    "acc_scr_log_yuned= (accuracy_score(y_test , y_pred))\n",
    "print('Overall accuracy of logistic regression model:', acc_scr_log_yuned)"
   ]
  },
  {
   "cell_type": "markdown",
   "metadata": {
    "id": "YO6LP2-BBR4n"
   },
   "source": [
    "# 2.XG Boost Algorithm"
   ]
  },
  {
   "cell_type": "code",
   "execution_count": 66,
   "metadata": {
    "id": "sMvnOBHmA596"
   },
   "outputs": [],
   "source": [
    "param_grid = {\n",
    "    \"max_depth\": [3, 4, 5, 7],\n",
    "    \"learning_rate\": [0.1, 0.01, 0.05],\n",
    "    \"gamma\": [0, 0.25, 1],\n",
    "    \"reg_lambda\": [0, 1, 10],\n",
    "    \"scale_pos_weight\": [1, 3, 5],\n",
    "    \"subsample\": [0.8],\n",
    "    \"colsample_bytree\": [0.5],\n",
    "}"
   ]
  },
  {
   "cell_type": "code",
   "execution_count": 67,
   "metadata": {
    "id": "zntxDOa-BeYf"
   },
   "outputs": [],
   "source": [
    "xgb_cl = xgb.XGBClassifier(objective=\"binary:logistic\")\n",
    "\n",
    "# Init Grid Search\n",
    "grid_cv = GridSearchCV(xgb_cl, param_grid, n_jobs=-1, cv=3, scoring=\"roc_auc\")\n",
    "# Fit\n",
    "_ = grid_cv.fit(x_train, y_train)"
   ]
  },
  {
   "cell_type": "code",
   "execution_count": 68,
   "metadata": {
    "colab": {
     "base_uri": "https://localhost:8080/"
    },
    "id": "7B6VVCNVBfeR",
    "outputId": "a1c0bbe8-1043-4f63-d797-6ed26dc6ce9d"
   },
   "outputs": [
    {
     "name": "stdout",
     "output_type": "stream",
     "text": [
      "0.9746592264274098\n",
      "{'colsample_bytree': 0.5, 'gamma': 0, 'learning_rate': 0.1, 'max_depth': 7, 'reg_lambda': 0, 'scale_pos_weight': 1, 'subsample': 0.8}\n"
     ]
    }
   ],
   "source": [
    "print(grid_cv.best_score_)\n",
    "print(grid_cv.best_params_)"
   ]
  },
  {
   "cell_type": "code",
   "execution_count": 69,
   "metadata": {
    "id": "X2cjUrevBlhn"
   },
   "outputs": [],
   "source": [
    "# Insert the new fixed values to the grid\n",
    "param_grid[\"scale_pos_weight\"] = [3]\n",
    "param_grid[\"subsample\"] = [0.8]\n",
    "param_grid[\"colsample_bytree\"] = [0.5]\n",
    "\n",
    "# Give new value ranges to other params\n",
    "param_grid[\"gamma\"] = [3, 5, 7]\n",
    "param_grid[\"max_depth\"] = [9, 15, 20]\n",
    "param_grid[\"reg_lambda\"] = [10, 30, 50]\n",
    "param_grid[\"learning_rate\"] = [0.3, 0.5, 0.7, 1]"
   ]
  },
  {
   "cell_type": "code",
   "execution_count": 59,
   "metadata": {
    "id": "xCF3ONC0Bukf"
   },
   "outputs": [],
   "source": [
    "grid_cv_2 = GridSearchCV(xgb_cl, param_grid,\n",
    "                         cv=3, scoring=\"roc_auc\", n_jobs=-1)\n",
    "\n",
    "_ = grid_cv_2.fit(x_train, y_train)"
   ]
  },
  {
   "cell_type": "code",
   "execution_count": 60,
   "metadata": {
    "colab": {
     "base_uri": "https://localhost:8080/"
    },
    "id": "7SgI9vTxByYr",
    "outputId": "ae46beed-7c73-4753-9937-816d0f30dc78"
   },
   "outputs": [
    {
     "name": "stdout",
     "output_type": "stream",
     "text": [
      "0.9588677923876802\n",
      "{'colsample_bytree': 0.5, 'gamma': 3, 'learning_rate': 0.3, 'max_depth': 15, 'reg_lambda': 10, 'scale_pos_weight': 3, 'subsample': 0.8}\n"
     ]
    }
   ],
   "source": [
    "print(grid_cv_2.best_score_)\n",
    "print(grid_cv_2.best_params_)"
   ]
  },
  {
   "cell_type": "code",
   "execution_count": 61,
   "metadata": {
    "id": "ub1METNKB1iL"
   },
   "outputs": [],
   "source": [
    "final_cl = xgb.XGBClassifier(\n",
    "    colsample_bytree= 0.5, gamma= 0, learning_rate= 0.1, max_depth= 7, reg_lambda= 0, scale_pos_weight= 3, subsample= 0.8\n",
    ")\n",
    "_ = final_cl.fit(x_train, y_train)"
   ]
  },
  {
   "cell_type": "code",
   "execution_count": 62,
   "metadata": {
    "colab": {
     "base_uri": "https://localhost:8080/"
    },
    "id": "ISiSo_6yB5uy",
    "outputId": "15d90d81-bc09-4658-9e2a-4b9a4c7cadbe"
   },
   "outputs": [
    {
     "name": "stdout",
     "output_type": "stream",
     "text": [
      "Overall accuracy of XG Boost_gs model: 0.9068825910931174\n"
     ]
    }
   ],
   "source": [
    "pred_gs = final_cl.predict(X_test)\n",
    "acc_scr_gs = (accuracy_score(y_test , pred_gs))\n",
    "print('Overall accuracy of XG Boost_gs model:', acc_scr_gs)"
   ]
  },
  {
   "cell_type": "markdown",
   "metadata": {
    "id": "kljbziLUEpVP"
   },
   "source": [
    "**So we have got the best accuracy model from XG Boost Classifier with 90.69% accuracy.**"
   ]
  },
  {
   "cell_type": "code",
   "execution_count": null,
   "metadata": {},
   "outputs": [],
   "source": []
  }
 ],
 "metadata": {
  "colab": {
   "provenance": []
  },
  "kernelspec": {
   "display_name": "Python 3 (ipykernel)",
   "language": "python",
   "name": "python3"
  },
  "language_info": {
   "codemirror_mode": {
    "name": "ipython",
    "version": 3
   },
   "file_extension": ".py",
   "mimetype": "text/x-python",
   "name": "python",
   "nbconvert_exporter": "python",
   "pygments_lexer": "ipython3",
   "version": "3.11.3"
  }
 },
 "nbformat": 4,
 "nbformat_minor": 1
}
